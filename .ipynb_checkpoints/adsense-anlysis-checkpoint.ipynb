{
 "cells": [
  {
   "cell_type": "markdown",
   "metadata": {
    "colab_type": "text",
    "id": "view-in-github"
   },
   "source": [
    "<a href=\"https://colab.research.google.com/github/rafaellsma/adsense-analysis/blob/main/adsense-anlysis.ipynb\" target=\"_parent\"><img src=\"https://colab.research.google.com/assets/colab-badge.svg\" alt=\"Open In Colab\"/></a>"
   ]
  },
  {
   "cell_type": "markdown",
   "metadata": {
    "id": "64DxmhnpnWux"
   },
   "source": [
    "# ADWORDS Analysis [by Query Explorer](https://ga-dev-tools.appspot.com/query-explorer)"
   ]
  },
  {
   "cell_type": "markdown",
   "metadata": {
    "id": "N0XdHFO1nWvF"
   },
   "source": [
    "Através da plataforma Query Explorer, obtivemos um dataset que une os produtos do Google (Analytics/Search Console/AdWords) com informações sobre anuncios direcionados as buscas relacionadas a Farmácia.\n",
    "\n",
    "Dividimos o trabalho em etapas, sendo a primeira a de pré-processamento do dataset. Limpando outliers, removendo dados irrelevantes e tratando dados importantes ausentes essa etapa é uma das mais importantes pois servirá de base para as demais.\n",
    "\n",
    "Em seguida, apresentaremos estatísticas descritivas com visualizaçcões e teste de hipotestes para comparar categorias, visando extrair informações para o modelo de negócio."
   ]
  },
  {
   "cell_type": "code",
   "execution_count": 1,
   "metadata": {
    "id": "__MRoIKYnWvG"
   },
   "outputs": [
    {
     "data": {
      "text/html": [
       "\n",
       "    <div class=\"bk-root\">\n",
       "        <a href=\"https://bokeh.org\" target=\"_blank\" class=\"bk-logo bk-logo-small bk-logo-notebook\"></a>\n",
       "        <span id=\"1001\">Loading BokehJS ...</span>\n",
       "    </div>"
      ]
     },
     "metadata": {},
     "output_type": "display_data"
    },
    {
     "data": {
      "application/javascript": [
       "\n",
       "(function(root) {\n",
       "  function now() {\n",
       "    return new Date();\n",
       "  }\n",
       "\n",
       "  var force = true;\n",
       "\n",
       "  if (typeof root._bokeh_onload_callbacks === \"undefined\" || force === true) {\n",
       "    root._bokeh_onload_callbacks = [];\n",
       "    root._bokeh_is_loading = undefined;\n",
       "  }\n",
       "\n",
       "  var JS_MIME_TYPE = 'application/javascript';\n",
       "  var HTML_MIME_TYPE = 'text/html';\n",
       "  var EXEC_MIME_TYPE = 'application/vnd.bokehjs_exec.v0+json';\n",
       "  var CLASS_NAME = 'output_bokeh rendered_html';\n",
       "\n",
       "  /**\n",
       "   * Render data to the DOM node\n",
       "   */\n",
       "  function render(props, node) {\n",
       "    var script = document.createElement(\"script\");\n",
       "    node.appendChild(script);\n",
       "  }\n",
       "\n",
       "  /**\n",
       "   * Handle when an output is cleared or removed\n",
       "   */\n",
       "  function handleClearOutput(event, handle) {\n",
       "    var cell = handle.cell;\n",
       "\n",
       "    var id = cell.output_area._bokeh_element_id;\n",
       "    var server_id = cell.output_area._bokeh_server_id;\n",
       "    // Clean up Bokeh references\n",
       "    if (id != null && id in Bokeh.index) {\n",
       "      Bokeh.index[id].model.document.clear();\n",
       "      delete Bokeh.index[id];\n",
       "    }\n",
       "\n",
       "    if (server_id !== undefined) {\n",
       "      // Clean up Bokeh references\n",
       "      var cmd = \"from bokeh.io.state import curstate; print(curstate().uuid_to_server['\" + server_id + \"'].get_sessions()[0].document.roots[0]._id)\";\n",
       "      cell.notebook.kernel.execute(cmd, {\n",
       "        iopub: {\n",
       "          output: function(msg) {\n",
       "            var id = msg.content.text.trim();\n",
       "            if (id in Bokeh.index) {\n",
       "              Bokeh.index[id].model.document.clear();\n",
       "              delete Bokeh.index[id];\n",
       "            }\n",
       "          }\n",
       "        }\n",
       "      });\n",
       "      // Destroy server and session\n",
       "      var cmd = \"import bokeh.io.notebook as ion; ion.destroy_server('\" + server_id + \"')\";\n",
       "      cell.notebook.kernel.execute(cmd);\n",
       "    }\n",
       "  }\n",
       "\n",
       "  /**\n",
       "   * Handle when a new output is added\n",
       "   */\n",
       "  function handleAddOutput(event, handle) {\n",
       "    var output_area = handle.output_area;\n",
       "    var output = handle.output;\n",
       "\n",
       "    // limit handleAddOutput to display_data with EXEC_MIME_TYPE content only\n",
       "    if ((output.output_type != \"display_data\") || (!output.data.hasOwnProperty(EXEC_MIME_TYPE))) {\n",
       "      return\n",
       "    }\n",
       "\n",
       "    var toinsert = output_area.element.find(\".\" + CLASS_NAME.split(' ')[0]);\n",
       "\n",
       "    if (output.metadata[EXEC_MIME_TYPE][\"id\"] !== undefined) {\n",
       "      toinsert[toinsert.length - 1].firstChild.textContent = output.data[JS_MIME_TYPE];\n",
       "      // store reference to embed id on output_area\n",
       "      output_area._bokeh_element_id = output.metadata[EXEC_MIME_TYPE][\"id\"];\n",
       "    }\n",
       "    if (output.metadata[EXEC_MIME_TYPE][\"server_id\"] !== undefined) {\n",
       "      var bk_div = document.createElement(\"div\");\n",
       "      bk_div.innerHTML = output.data[HTML_MIME_TYPE];\n",
       "      var script_attrs = bk_div.children[0].attributes;\n",
       "      for (var i = 0; i < script_attrs.length; i++) {\n",
       "        toinsert[toinsert.length - 1].firstChild.setAttribute(script_attrs[i].name, script_attrs[i].value);\n",
       "        toinsert[toinsert.length - 1].firstChild.textContent = bk_div.children[0].textContent\n",
       "      }\n",
       "      // store reference to server id on output_area\n",
       "      output_area._bokeh_server_id = output.metadata[EXEC_MIME_TYPE][\"server_id\"];\n",
       "    }\n",
       "  }\n",
       "\n",
       "  function register_renderer(events, OutputArea) {\n",
       "\n",
       "    function append_mime(data, metadata, element) {\n",
       "      // create a DOM node to render to\n",
       "      var toinsert = this.create_output_subarea(\n",
       "        metadata,\n",
       "        CLASS_NAME,\n",
       "        EXEC_MIME_TYPE\n",
       "      );\n",
       "      this.keyboard_manager.register_events(toinsert);\n",
       "      // Render to node\n",
       "      var props = {data: data, metadata: metadata[EXEC_MIME_TYPE]};\n",
       "      render(props, toinsert[toinsert.length - 1]);\n",
       "      element.append(toinsert);\n",
       "      return toinsert\n",
       "    }\n",
       "\n",
       "    /* Handle when an output is cleared or removed */\n",
       "    events.on('clear_output.CodeCell', handleClearOutput);\n",
       "    events.on('delete.Cell', handleClearOutput);\n",
       "\n",
       "    /* Handle when a new output is added */\n",
       "    events.on('output_added.OutputArea', handleAddOutput);\n",
       "\n",
       "    /**\n",
       "     * Register the mime type and append_mime function with output_area\n",
       "     */\n",
       "    OutputArea.prototype.register_mime_type(EXEC_MIME_TYPE, append_mime, {\n",
       "      /* Is output safe? */\n",
       "      safe: true,\n",
       "      /* Index of renderer in `output_area.display_order` */\n",
       "      index: 0\n",
       "    });\n",
       "  }\n",
       "\n",
       "  // register the mime type if in Jupyter Notebook environment and previously unregistered\n",
       "  if (root.Jupyter !== undefined) {\n",
       "    var events = require('base/js/events');\n",
       "    var OutputArea = require('notebook/js/outputarea').OutputArea;\n",
       "\n",
       "    if (OutputArea.prototype.mime_types().indexOf(EXEC_MIME_TYPE) == -1) {\n",
       "      register_renderer(events, OutputArea);\n",
       "    }\n",
       "  }\n",
       "\n",
       "  \n",
       "  if (typeof (root._bokeh_timeout) === \"undefined\" || force === true) {\n",
       "    root._bokeh_timeout = Date.now() + 5000;\n",
       "    root._bokeh_failed_load = false;\n",
       "  }\n",
       "\n",
       "  var NB_LOAD_WARNING = {'data': {'text/html':\n",
       "     \"<div style='background-color: #fdd'>\\n\"+\n",
       "     \"<p>\\n\"+\n",
       "     \"BokehJS does not appear to have successfully loaded. If loading BokehJS from CDN, this \\n\"+\n",
       "     \"may be due to a slow or bad network connection. Possible fixes:\\n\"+\n",
       "     \"</p>\\n\"+\n",
       "     \"<ul>\\n\"+\n",
       "     \"<li>re-rerun `output_notebook()` to attempt to load from CDN again, or</li>\\n\"+\n",
       "     \"<li>use INLINE resources instead, as so:</li>\\n\"+\n",
       "     \"</ul>\\n\"+\n",
       "     \"<code>\\n\"+\n",
       "     \"from bokeh.resources import INLINE\\n\"+\n",
       "     \"output_notebook(resources=INLINE)\\n\"+\n",
       "     \"</code>\\n\"+\n",
       "     \"</div>\"}};\n",
       "\n",
       "  function display_loaded() {\n",
       "    var el = document.getElementById(\"1001\");\n",
       "    if (el != null) {\n",
       "      el.textContent = \"BokehJS is loading...\";\n",
       "    }\n",
       "    if (root.Bokeh !== undefined) {\n",
       "      if (el != null) {\n",
       "        el.textContent = \"BokehJS \" + root.Bokeh.version + \" successfully loaded.\";\n",
       "      }\n",
       "    } else if (Date.now() < root._bokeh_timeout) {\n",
       "      setTimeout(display_loaded, 100)\n",
       "    }\n",
       "  }\n",
       "\n",
       "\n",
       "  function run_callbacks() {\n",
       "    try {\n",
       "      root._bokeh_onload_callbacks.forEach(function(callback) {\n",
       "        if (callback != null)\n",
       "          callback();\n",
       "      });\n",
       "    } finally {\n",
       "      delete root._bokeh_onload_callbacks\n",
       "    }\n",
       "    console.debug(\"Bokeh: all callbacks have finished\");\n",
       "  }\n",
       "\n",
       "  function load_libs(css_urls, js_urls, callback) {\n",
       "    if (css_urls == null) css_urls = [];\n",
       "    if (js_urls == null) js_urls = [];\n",
       "\n",
       "    root._bokeh_onload_callbacks.push(callback);\n",
       "    if (root._bokeh_is_loading > 0) {\n",
       "      console.debug(\"Bokeh: BokehJS is being loaded, scheduling callback at\", now());\n",
       "      return null;\n",
       "    }\n",
       "    if (js_urls == null || js_urls.length === 0) {\n",
       "      run_callbacks();\n",
       "      return null;\n",
       "    }\n",
       "    console.debug(\"Bokeh: BokehJS not loaded, scheduling load and callback at\", now());\n",
       "    root._bokeh_is_loading = css_urls.length + js_urls.length;\n",
       "\n",
       "    function on_load() {\n",
       "      root._bokeh_is_loading--;\n",
       "      if (root._bokeh_is_loading === 0) {\n",
       "        console.debug(\"Bokeh: all BokehJS libraries/stylesheets loaded\");\n",
       "        run_callbacks()\n",
       "      }\n",
       "    }\n",
       "\n",
       "    function on_error() {\n",
       "      console.error(\"failed to load \" + url);\n",
       "    }\n",
       "\n",
       "    for (var i = 0; i < css_urls.length; i++) {\n",
       "      var url = css_urls[i];\n",
       "      const element = document.createElement(\"link\");\n",
       "      element.onload = on_load;\n",
       "      element.onerror = on_error;\n",
       "      element.rel = \"stylesheet\";\n",
       "      element.type = \"text/css\";\n",
       "      element.href = url;\n",
       "      console.debug(\"Bokeh: injecting link tag for BokehJS stylesheet: \", url);\n",
       "      document.body.appendChild(element);\n",
       "    }\n",
       "\n",
       "    const hashes = {\"https://cdn.bokeh.org/bokeh/release/bokeh-2.2.3.min.js\": \"T2yuo9Oe71Cz/I4X9Ac5+gpEa5a8PpJCDlqKYO0CfAuEszu1JrXLl8YugMqYe3sM\", \"https://cdn.bokeh.org/bokeh/release/bokeh-widgets-2.2.3.min.js\": \"98GDGJ0kOMCUMUePhksaQ/GYgB3+NH9h996V88sh3aOiUNX3N+fLXAtry6xctSZ6\", \"https://cdn.bokeh.org/bokeh/release/bokeh-tables-2.2.3.min.js\": \"89bArO+nlbP3sgakeHjCo1JYxYR5wufVgA3IbUvDY+K7w4zyxJqssu7wVnfeKCq8\"};\n",
       "\n",
       "    for (var i = 0; i < js_urls.length; i++) {\n",
       "      var url = js_urls[i];\n",
       "      var element = document.createElement('script');\n",
       "      element.onload = on_load;\n",
       "      element.onerror = on_error;\n",
       "      element.async = false;\n",
       "      element.src = url;\n",
       "      if (url in hashes) {\n",
       "        element.crossOrigin = \"anonymous\";\n",
       "        element.integrity = \"sha384-\" + hashes[url];\n",
       "      }\n",
       "      console.debug(\"Bokeh: injecting script tag for BokehJS library: \", url);\n",
       "      document.head.appendChild(element);\n",
       "    }\n",
       "  };\n",
       "\n",
       "  function inject_raw_css(css) {\n",
       "    const element = document.createElement(\"style\");\n",
       "    element.appendChild(document.createTextNode(css));\n",
       "    document.body.appendChild(element);\n",
       "  }\n",
       "\n",
       "  \n",
       "  var js_urls = [\"https://cdn.bokeh.org/bokeh/release/bokeh-2.2.3.min.js\", \"https://cdn.bokeh.org/bokeh/release/bokeh-widgets-2.2.3.min.js\", \"https://cdn.bokeh.org/bokeh/release/bokeh-tables-2.2.3.min.js\"];\n",
       "  var css_urls = [];\n",
       "  \n",
       "\n",
       "  var inline_js = [\n",
       "    function(Bokeh) {\n",
       "      Bokeh.set_log_level(\"info\");\n",
       "    },\n",
       "    function(Bokeh) {\n",
       "    \n",
       "    \n",
       "    }\n",
       "  ];\n",
       "\n",
       "  function run_inline_js() {\n",
       "    \n",
       "    if (root.Bokeh !== undefined || force === true) {\n",
       "      \n",
       "    for (var i = 0; i < inline_js.length; i++) {\n",
       "      inline_js[i].call(root, root.Bokeh);\n",
       "    }\n",
       "    if (force === true) {\n",
       "        display_loaded();\n",
       "      }} else if (Date.now() < root._bokeh_timeout) {\n",
       "      setTimeout(run_inline_js, 100);\n",
       "    } else if (!root._bokeh_failed_load) {\n",
       "      console.log(\"Bokeh: BokehJS failed to load within specified timeout.\");\n",
       "      root._bokeh_failed_load = true;\n",
       "    } else if (force !== true) {\n",
       "      var cell = $(document.getElementById(\"1001\")).parents('.cell').data().cell;\n",
       "      cell.output_area.append_execute_result(NB_LOAD_WARNING)\n",
       "    }\n",
       "\n",
       "  }\n",
       "\n",
       "  if (root._bokeh_is_loading === 0) {\n",
       "    console.debug(\"Bokeh: BokehJS loaded, going straight to plotting\");\n",
       "    run_inline_js();\n",
       "  } else {\n",
       "    load_libs(css_urls, js_urls, function() {\n",
       "      console.debug(\"Bokeh: BokehJS plotting callback run at\", now());\n",
       "      run_inline_js();\n",
       "    });\n",
       "  }\n",
       "}(window));"
      ],
      "application/vnd.bokehjs_load.v0+json": "\n(function(root) {\n  function now() {\n    return new Date();\n  }\n\n  var force = true;\n\n  if (typeof root._bokeh_onload_callbacks === \"undefined\" || force === true) {\n    root._bokeh_onload_callbacks = [];\n    root._bokeh_is_loading = undefined;\n  }\n\n  \n\n  \n  if (typeof (root._bokeh_timeout) === \"undefined\" || force === true) {\n    root._bokeh_timeout = Date.now() + 5000;\n    root._bokeh_failed_load = false;\n  }\n\n  var NB_LOAD_WARNING = {'data': {'text/html':\n     \"<div style='background-color: #fdd'>\\n\"+\n     \"<p>\\n\"+\n     \"BokehJS does not appear to have successfully loaded. If loading BokehJS from CDN, this \\n\"+\n     \"may be due to a slow or bad network connection. Possible fixes:\\n\"+\n     \"</p>\\n\"+\n     \"<ul>\\n\"+\n     \"<li>re-rerun `output_notebook()` to attempt to load from CDN again, or</li>\\n\"+\n     \"<li>use INLINE resources instead, as so:</li>\\n\"+\n     \"</ul>\\n\"+\n     \"<code>\\n\"+\n     \"from bokeh.resources import INLINE\\n\"+\n     \"output_notebook(resources=INLINE)\\n\"+\n     \"</code>\\n\"+\n     \"</div>\"}};\n\n  function display_loaded() {\n    var el = document.getElementById(\"1001\");\n    if (el != null) {\n      el.textContent = \"BokehJS is loading...\";\n    }\n    if (root.Bokeh !== undefined) {\n      if (el != null) {\n        el.textContent = \"BokehJS \" + root.Bokeh.version + \" successfully loaded.\";\n      }\n    } else if (Date.now() < root._bokeh_timeout) {\n      setTimeout(display_loaded, 100)\n    }\n  }\n\n\n  function run_callbacks() {\n    try {\n      root._bokeh_onload_callbacks.forEach(function(callback) {\n        if (callback != null)\n          callback();\n      });\n    } finally {\n      delete root._bokeh_onload_callbacks\n    }\n    console.debug(\"Bokeh: all callbacks have finished\");\n  }\n\n  function load_libs(css_urls, js_urls, callback) {\n    if (css_urls == null) css_urls = [];\n    if (js_urls == null) js_urls = [];\n\n    root._bokeh_onload_callbacks.push(callback);\n    if (root._bokeh_is_loading > 0) {\n      console.debug(\"Bokeh: BokehJS is being loaded, scheduling callback at\", now());\n      return null;\n    }\n    if (js_urls == null || js_urls.length === 0) {\n      run_callbacks();\n      return null;\n    }\n    console.debug(\"Bokeh: BokehJS not loaded, scheduling load and callback at\", now());\n    root._bokeh_is_loading = css_urls.length + js_urls.length;\n\n    function on_load() {\n      root._bokeh_is_loading--;\n      if (root._bokeh_is_loading === 0) {\n        console.debug(\"Bokeh: all BokehJS libraries/stylesheets loaded\");\n        run_callbacks()\n      }\n    }\n\n    function on_error() {\n      console.error(\"failed to load \" + url);\n    }\n\n    for (var i = 0; i < css_urls.length; i++) {\n      var url = css_urls[i];\n      const element = document.createElement(\"link\");\n      element.onload = on_load;\n      element.onerror = on_error;\n      element.rel = \"stylesheet\";\n      element.type = \"text/css\";\n      element.href = url;\n      console.debug(\"Bokeh: injecting link tag for BokehJS stylesheet: \", url);\n      document.body.appendChild(element);\n    }\n\n    const hashes = {\"https://cdn.bokeh.org/bokeh/release/bokeh-2.2.3.min.js\": \"T2yuo9Oe71Cz/I4X9Ac5+gpEa5a8PpJCDlqKYO0CfAuEszu1JrXLl8YugMqYe3sM\", \"https://cdn.bokeh.org/bokeh/release/bokeh-widgets-2.2.3.min.js\": \"98GDGJ0kOMCUMUePhksaQ/GYgB3+NH9h996V88sh3aOiUNX3N+fLXAtry6xctSZ6\", \"https://cdn.bokeh.org/bokeh/release/bokeh-tables-2.2.3.min.js\": \"89bArO+nlbP3sgakeHjCo1JYxYR5wufVgA3IbUvDY+K7w4zyxJqssu7wVnfeKCq8\"};\n\n    for (var i = 0; i < js_urls.length; i++) {\n      var url = js_urls[i];\n      var element = document.createElement('script');\n      element.onload = on_load;\n      element.onerror = on_error;\n      element.async = false;\n      element.src = url;\n      if (url in hashes) {\n        element.crossOrigin = \"anonymous\";\n        element.integrity = \"sha384-\" + hashes[url];\n      }\n      console.debug(\"Bokeh: injecting script tag for BokehJS library: \", url);\n      document.head.appendChild(element);\n    }\n  };\n\n  function inject_raw_css(css) {\n    const element = document.createElement(\"style\");\n    element.appendChild(document.createTextNode(css));\n    document.body.appendChild(element);\n  }\n\n  \n  var js_urls = [\"https://cdn.bokeh.org/bokeh/release/bokeh-2.2.3.min.js\", \"https://cdn.bokeh.org/bokeh/release/bokeh-widgets-2.2.3.min.js\", \"https://cdn.bokeh.org/bokeh/release/bokeh-tables-2.2.3.min.js\"];\n  var css_urls = [];\n  \n\n  var inline_js = [\n    function(Bokeh) {\n      Bokeh.set_log_level(\"info\");\n    },\n    function(Bokeh) {\n    \n    \n    }\n  ];\n\n  function run_inline_js() {\n    \n    if (root.Bokeh !== undefined || force === true) {\n      \n    for (var i = 0; i < inline_js.length; i++) {\n      inline_js[i].call(root, root.Bokeh);\n    }\n    if (force === true) {\n        display_loaded();\n      }} else if (Date.now() < root._bokeh_timeout) {\n      setTimeout(run_inline_js, 100);\n    } else if (!root._bokeh_failed_load) {\n      console.log(\"Bokeh: BokehJS failed to load within specified timeout.\");\n      root._bokeh_failed_load = true;\n    } else if (force !== true) {\n      var cell = $(document.getElementById(\"1001\")).parents('.cell').data().cell;\n      cell.output_area.append_execute_result(NB_LOAD_WARNING)\n    }\n\n  }\n\n  if (root._bokeh_is_loading === 0) {\n    console.debug(\"Bokeh: BokehJS loaded, going straight to plotting\");\n    run_inline_js();\n  } else {\n    load_libs(css_urls, js_urls, function() {\n      console.debug(\"Bokeh: BokehJS plotting callback run at\", now());\n      run_inline_js();\n    });\n  }\n}(window));"
     },
     "metadata": {},
     "output_type": "display_data"
    }
   ],
   "source": [
    "import numpy as np\n",
    "import pandas as pd\n",
    "import requests\n",
    "import warnings\n",
    "from numpy import log10\n",
    "from scipy import stats\n",
    "\n",
    "import seaborn as sbn\n",
    "\n",
    "from bokeh.plotting import figure, show\n",
    "from bokeh.io import output_notebook\n",
    "from bokeh.palettes import Spectral6\n",
    "from bokeh.plotting import figure\n",
    "from bokeh.transform import factor_cmap\n",
    "from bokeh.models import ColumnDataSource\n",
    "\n",
    "output_notebook()\n",
    "\n",
    "pd.options.display.max_columns = None\n",
    "pd.options.display.max_rows = None\n",
    "warnings.filterwarnings('ignore')"
   ]
  },
  {
   "cell_type": "code",
   "execution_count": 2,
   "metadata": {
    "id": "pDOrpBIenWvH"
   },
   "outputs": [],
   "source": [
    "dataset = pd.read_csv(\"dataset 210316.csv\", sep=\";\")"
   ]
  },
  {
   "cell_type": "code",
   "execution_count": 3,
   "metadata": {
    "id": "mCQSEZ7gnWvH",
    "outputId": "1fa89fc2-c6d5-4f92-ebfb-14bbcc3ee714"
   },
   "outputs": [
    {
     "name": "stdout",
     "output_type": "stream",
     "text": [
      "(21306, 36)\n"
     ]
    },
    {
     "data": {
      "text/html": [
       "<div>\n",
       "<style scoped>\n",
       "    .dataframe tbody tr th:only-of-type {\n",
       "        vertical-align: middle;\n",
       "    }\n",
       "\n",
       "    .dataframe tbody tr th {\n",
       "        vertical-align: top;\n",
       "    }\n",
       "\n",
       "    .dataframe thead th {\n",
       "        text-align: right;\n",
       "    }\n",
       "</style>\n",
       "<table border=\"1\" class=\"dataframe\">\n",
       "  <thead>\n",
       "    <tr style=\"text-align: right;\">\n",
       "      <th></th>\n",
       "      <th>dateHourMinute</th>\n",
       "      <th>adMatchedQuery</th>\n",
       "      <th>city</th>\n",
       "      <th>latitude</th>\n",
       "      <th>longitude</th>\n",
       "      <th>networkDomain</th>\n",
       "      <th>networkLocation</th>\n",
       "      <th>users</th>\n",
       "      <th>flashVersion</th>\n",
       "      <th>javaEnabled</th>\n",
       "      <th>language</th>\n",
       "      <th>screenResolution</th>\n",
       "      <th>screenName</th>\n",
       "      <th>browser</th>\n",
       "      <th>operatingSystem</th>\n",
       "      <th>mobileDeviceInfo</th>\n",
       "      <th>adSlot</th>\n",
       "      <th>adMatchType</th>\n",
       "      <th>adFormat</th>\n",
       "      <th>adTargetingType</th>\n",
       "      <th>adwordsCriteriaID</th>\n",
       "      <th>impressions</th>\n",
       "      <th>adClicks</th>\n",
       "      <th>adCost</th>\n",
       "      <th>CPM</th>\n",
       "      <th>CPC</th>\n",
       "      <th>CTR</th>\n",
       "      <th>costPerConversion</th>\n",
       "      <th>sessionDuration</th>\n",
       "      <th>organicSearches</th>\n",
       "      <th>goal1Starts</th>\n",
       "      <th>pageviews</th>\n",
       "      <th>uniquePageviews</th>\n",
       "      <th>timeOnPage</th>\n",
       "      <th>exits</th>\n",
       "      <th>pageLoadTime</th>\n",
       "    </tr>\n",
       "  </thead>\n",
       "  <tbody>\n",
       "    <tr>\n",
       "      <th>0</th>\n",
       "      <td>201901150113</td>\n",
       "      <td>comprar terramicina polimixina b</td>\n",
       "      <td>Carpina</td>\n",
       "      <td>-7,845</td>\n",
       "      <td>-35,2437</td>\n",
       "      <td>planaltonet.net.br</td>\n",
       "      <td>planalto net</td>\n",
       "      <td>1</td>\n",
       "      <td>(not set)</td>\n",
       "      <td>No</td>\n",
       "      <td>pt-br</td>\n",
       "      <td>640x360</td>\n",
       "      <td>farmacia12.com.br/index2.html</td>\n",
       "      <td>Chrome</td>\n",
       "      <td>Android</td>\n",
       "      <td>Asus X00LD Zenfone 4 Selfie ZD553KL</td>\n",
       "      <td>Google search: Top</td>\n",
       "      <td>Broad match</td>\n",
       "      <td>Text</td>\n",
       "      <td>Keyword</td>\n",
       "      <td>309449757504</td>\n",
       "      <td>0</td>\n",
       "      <td>0</td>\n",
       "      <td>0</td>\n",
       "      <td>0</td>\n",
       "      <td>0</td>\n",
       "      <td>0</td>\n",
       "      <td>0</td>\n",
       "      <td>0.0</td>\n",
       "      <td>0</td>\n",
       "      <td>1</td>\n",
       "      <td>1</td>\n",
       "      <td>1</td>\n",
       "      <td>0</td>\n",
       "      <td>1</td>\n",
       "      <td>0</td>\n",
       "    </tr>\n",
       "    <tr>\n",
       "      <th>1</th>\n",
       "      <td>201901150752</td>\n",
       "      <td>remedios homeopaticos onde comprar</td>\n",
       "      <td>Recife</td>\n",
       "      <td>-8,0522</td>\n",
       "      <td>-34,9286</td>\n",
       "      <td>(not set)</td>\n",
       "      <td>claro s.a.</td>\n",
       "      <td>1</td>\n",
       "      <td>(not set)</td>\n",
       "      <td>No</td>\n",
       "      <td>pt-br</td>\n",
       "      <td>360x760</td>\n",
       "      <td>farmacia12.com.br/</td>\n",
       "      <td>Chrome</td>\n",
       "      <td>Android</td>\n",
       "      <td>(not set)</td>\n",
       "      <td>Google search: Other</td>\n",
       "      <td>Phrase match</td>\n",
       "      <td>Text</td>\n",
       "      <td>Keyword</td>\n",
       "      <td>1639245696</td>\n",
       "      <td>1</td>\n",
       "      <td>1</td>\n",
       "      <td>0,03</td>\n",
       "      <td>30</td>\n",
       "      <td>0,03</td>\n",
       "      <td>100</td>\n",
       "      <td>0,03</td>\n",
       "      <td>23.0</td>\n",
       "      <td>0</td>\n",
       "      <td>1</td>\n",
       "      <td>3</td>\n",
       "      <td>2</td>\n",
       "      <td>23</td>\n",
       "      <td>1</td>\n",
       "      <td>0</td>\n",
       "    </tr>\n",
       "    <tr>\n",
       "      <th>2</th>\n",
       "      <td>201901150753</td>\n",
       "      <td>farmácia são paulo olinda estoque</td>\n",
       "      <td>Recife</td>\n",
       "      <td>-8,0522</td>\n",
       "      <td>-34,9286</td>\n",
       "      <td>(not set)</td>\n",
       "      <td>telef nica brasil s.a</td>\n",
       "      <td>1</td>\n",
       "      <td>(not set)</td>\n",
       "      <td>No</td>\n",
       "      <td>pt-br</td>\n",
       "      <td>360x640</td>\n",
       "      <td>farmacia12.com.br/</td>\n",
       "      <td>Chrome</td>\n",
       "      <td>Android</td>\n",
       "      <td>Motorola Moto G (4) Moto G4</td>\n",
       "      <td>Google search: Top</td>\n",
       "      <td>Phrase match</td>\n",
       "      <td>Text</td>\n",
       "      <td>Keyword</td>\n",
       "      <td>10334511</td>\n",
       "      <td>1</td>\n",
       "      <td>1</td>\n",
       "      <td>0,27</td>\n",
       "      <td>270</td>\n",
       "      <td>0,27</td>\n",
       "      <td>100</td>\n",
       "      <td>0</td>\n",
       "      <td>0.0</td>\n",
       "      <td>0</td>\n",
       "      <td>0</td>\n",
       "      <td>1</td>\n",
       "      <td>1</td>\n",
       "      <td>0</td>\n",
       "      <td>1</td>\n",
       "      <td>0</td>\n",
       "    </tr>\n",
       "    <tr>\n",
       "      <th>3</th>\n",
       "      <td>201901150754</td>\n",
       "      <td>farmacia independente olinda</td>\n",
       "      <td>Olinda</td>\n",
       "      <td>-7,9906</td>\n",
       "      <td>-34,8417</td>\n",
       "      <td>(not set)</td>\n",
       "      <td>claro s.a.</td>\n",
       "      <td>1</td>\n",
       "      <td>(not set)</td>\n",
       "      <td>No</td>\n",
       "      <td>pt-br</td>\n",
       "      <td>360x640</td>\n",
       "      <td>farmacia12.com.br/</td>\n",
       "      <td>Chrome</td>\n",
       "      <td>Android</td>\n",
       "      <td>Samsung SM-A520F Galaxy A5 (2017)</td>\n",
       "      <td>Google search: Top</td>\n",
       "      <td>Broad match</td>\n",
       "      <td>Text</td>\n",
       "      <td>Keyword</td>\n",
       "      <td>384100548605</td>\n",
       "      <td>1</td>\n",
       "      <td>1</td>\n",
       "      <td>0,27</td>\n",
       "      <td>270</td>\n",
       "      <td>0,27</td>\n",
       "      <td>100</td>\n",
       "      <td>0,27</td>\n",
       "      <td>15.0</td>\n",
       "      <td>0</td>\n",
       "      <td>1</td>\n",
       "      <td>3</td>\n",
       "      <td>2</td>\n",
       "      <td>15</td>\n",
       "      <td>1</td>\n",
       "      <td>0</td>\n",
       "    </tr>\n",
       "    <tr>\n",
       "      <th>4</th>\n",
       "      <td>201901150801</td>\n",
       "      <td>qual o remédio certo correto para tirar dor no...</td>\n",
       "      <td>Igarassu</td>\n",
       "      <td>-7,8333</td>\n",
       "      <td>-34,9128</td>\n",
       "      <td>naveganet.com.br</td>\n",
       "      <td>naveganet comercio e servi os ltda</td>\n",
       "      <td>1</td>\n",
       "      <td>(not set)</td>\n",
       "      <td>No</td>\n",
       "      <td>pt-br</td>\n",
       "      <td>360x720</td>\n",
       "      <td>farmacia12.com.br/</td>\n",
       "      <td>Chrome</td>\n",
       "      <td>Android</td>\n",
       "      <td>(not set)</td>\n",
       "      <td>Google search: Top</td>\n",
       "      <td>Phrase match</td>\n",
       "      <td>Text</td>\n",
       "      <td>Keyword</td>\n",
       "      <td>12772586</td>\n",
       "      <td>1</td>\n",
       "      <td>1</td>\n",
       "      <td>0,27</td>\n",
       "      <td>270</td>\n",
       "      <td>0,27</td>\n",
       "      <td>100</td>\n",
       "      <td>0,27</td>\n",
       "      <td>11.0</td>\n",
       "      <td>0</td>\n",
       "      <td>1</td>\n",
       "      <td>2</td>\n",
       "      <td>2</td>\n",
       "      <td>11</td>\n",
       "      <td>1</td>\n",
       "      <td>0</td>\n",
       "    </tr>\n",
       "  </tbody>\n",
       "</table>\n",
       "</div>"
      ],
      "text/plain": [
       "   dateHourMinute                                     adMatchedQuery  \\\n",
       "0    201901150113                   comprar terramicina polimixina b   \n",
       "1    201901150752                 remedios homeopaticos onde comprar   \n",
       "2    201901150753                  farmácia são paulo olinda estoque   \n",
       "3    201901150754                       farmacia independente olinda   \n",
       "4    201901150801  qual o remédio certo correto para tirar dor no...   \n",
       "\n",
       "       city latitude longitude       networkDomain  \\\n",
       "0   Carpina   -7,845  -35,2437  planaltonet.net.br   \n",
       "1    Recife  -8,0522  -34,9286           (not set)   \n",
       "2    Recife  -8,0522  -34,9286           (not set)   \n",
       "3    Olinda  -7,9906  -34,8417           (not set)   \n",
       "4  Igarassu  -7,8333  -34,9128    naveganet.com.br   \n",
       "\n",
       "                      networkLocation  users flashVersion javaEnabled  \\\n",
       "0                        planalto net      1    (not set)          No   \n",
       "1                          claro s.a.      1    (not set)          No   \n",
       "2               telef nica brasil s.a      1    (not set)          No   \n",
       "3                          claro s.a.      1    (not set)          No   \n",
       "4  naveganet comercio e servi os ltda      1    (not set)          No   \n",
       "\n",
       "  language screenResolution                     screenName browser  \\\n",
       "0    pt-br          640x360  farmacia12.com.br/index2.html  Chrome   \n",
       "1    pt-br          360x760             farmacia12.com.br/  Chrome   \n",
       "2    pt-br          360x640             farmacia12.com.br/  Chrome   \n",
       "3    pt-br          360x640             farmacia12.com.br/  Chrome   \n",
       "4    pt-br          360x720             farmacia12.com.br/  Chrome   \n",
       "\n",
       "  operatingSystem                     mobileDeviceInfo                adSlot  \\\n",
       "0         Android  Asus X00LD Zenfone 4 Selfie ZD553KL    Google search: Top   \n",
       "1         Android                            (not set)  Google search: Other   \n",
       "2         Android          Motorola Moto G (4) Moto G4    Google search: Top   \n",
       "3         Android    Samsung SM-A520F Galaxy A5 (2017)    Google search: Top   \n",
       "4         Android                            (not set)    Google search: Top   \n",
       "\n",
       "    adMatchType adFormat adTargetingType adwordsCriteriaID  impressions  \\\n",
       "0   Broad match     Text         Keyword      309449757504            0   \n",
       "1  Phrase match     Text         Keyword        1639245696            1   \n",
       "2  Phrase match     Text         Keyword          10334511            1   \n",
       "3   Broad match     Text         Keyword      384100548605            1   \n",
       "4  Phrase match     Text         Keyword          12772586            1   \n",
       "\n",
       "   adClicks adCost  CPM   CPC  CTR costPerConversion  sessionDuration  \\\n",
       "0         0      0    0     0    0                 0              0.0   \n",
       "1         1   0,03   30  0,03  100              0,03             23.0   \n",
       "2         1   0,27  270  0,27  100                 0              0.0   \n",
       "3         1   0,27  270  0,27  100              0,27             15.0   \n",
       "4         1   0,27  270  0,27  100              0,27             11.0   \n",
       "\n",
       "   organicSearches  goal1Starts  pageviews  uniquePageviews  timeOnPage  \\\n",
       "0                0            1          1                1           0   \n",
       "1                0            1          3                2          23   \n",
       "2                0            0          1                1           0   \n",
       "3                0            1          3                2          15   \n",
       "4                0            1          2                2          11   \n",
       "\n",
       "   exits  pageLoadTime  \n",
       "0      1             0  \n",
       "1      1             0  \n",
       "2      1             0  \n",
       "3      1             0  \n",
       "4      1             0  "
      ]
     },
     "execution_count": 3,
     "metadata": {},
     "output_type": "execute_result"
    }
   ],
   "source": [
    "print(dataset.shape)\n",
    "dataset.head()"
   ]
  },
  {
   "cell_type": "markdown",
   "metadata": {
    "id": "g-pWmifUnWvJ"
   },
   "source": [
    "Boa parte dos tipos estão como object, então iremos ajustar-los para tipos mais adequados como: string, category, float, int"
   ]
  },
  {
   "cell_type": "code",
   "execution_count": 4,
   "metadata": {
    "id": "gl3xlftHnWvK"
   },
   "outputs": [],
   "source": [
    "dataset.dateHourMinute = pd.to_datetime(dataset.dateHourMinute, format=\"%Y%m%d%H%M\")\n",
    "dataset.adMatchedQuery = dataset.adMatchedQuery.astype('str')\n",
    "dataset.city = dataset.city.astype('category')\n",
    "dataset.latitude = dataset.latitude.astype('str').str.replace(',', '.').astype('float64')\n",
    "dataset.longitude = dataset.longitude.astype('str').str.replace(',', '.').astype('float64')\n",
    "dataset.networkDomain = dataset.networkDomain.astype('category')\n",
    "dataset.networkLocation = dataset.networkLocation.astype('category')\n",
    "dataset.flashVersion = dataset.flashVersion.astype('category')\n",
    "dataset.javaEnabled = dataset.javaEnabled.replace({True: 'Yes', False: 'No'}).astype('bool')\n",
    "dataset.language = dataset.language.astype('category')\n",
    "dataset.screenResolution = dataset.screenResolution.astype('category')\n",
    "dataset.screenName = dataset.screenName.astype('category')\n",
    "dataset.browser = dataset.browser.astype('category')\n",
    "dataset.operatingSystem = dataset.operatingSystem.astype('category')\n",
    "dataset.mobileDeviceInfo = dataset.mobileDeviceInfo.astype('category')\n",
    "dataset.adSlot = dataset.adSlot.astype('category')\n",
    "dataset.adMatchType = dataset.adMatchType.astype('category')\n",
    "dataset.adFormat = dataset.adFormat.astype('category')\n",
    "dataset.adTargetingType = dataset.adTargetingType.astype('category')\n",
    "dataset.adwordsCriteriaID = dataset.adwordsCriteriaID.astype('category')\n",
    "dataset.impressions = dataset.impressions.astype('int64')\n",
    "dataset.adClicks = dataset.adClicks.astype('int64')\n",
    "dataset.adCost = dataset.adCost.astype('str').str.replace(',', '.').astype('float64')\n",
    "dataset.CPM = dataset.CPM.astype('str').str.replace(',', '.').astype('float64')\n",
    "dataset.CPC = dataset.CPC.astype('str').str.replace(',', '.').astype('float64')\n",
    "dataset.CTR = dataset.CTR.astype('str').str.replace(',', '.').astype('float64')\n",
    "dataset.costPerConversion = dataset.costPerConversion.astype('str').str.replace(',', '.').astype('float64')\n",
    "dataset.sessionDuration = dataset.sessionDuration.astype('int64')"
   ]
  },
  {
   "cell_type": "markdown",
   "metadata": {
    "id": "a3qdhzBCnWvK"
   },
   "source": [
    "Vamos usar `.describe` para analisar todos o dados categoricos e ver o que tem valor ou não para o nosso dataset"
   ]
  },
  {
   "cell_type": "code",
   "execution_count": 5,
   "metadata": {
    "id": "U6kTJN80nWvL",
    "outputId": "cc53b022-2a5f-4135-954d-140568e95cf1",
    "scrolled": true
   },
   "outputs": [
    {
     "data": {
      "text/html": [
       "<div>\n",
       "<style scoped>\n",
       "    .dataframe tbody tr th:only-of-type {\n",
       "        vertical-align: middle;\n",
       "    }\n",
       "\n",
       "    .dataframe tbody tr th {\n",
       "        vertical-align: top;\n",
       "    }\n",
       "\n",
       "    .dataframe thead th {\n",
       "        text-align: right;\n",
       "    }\n",
       "</style>\n",
       "<table border=\"1\" class=\"dataframe\">\n",
       "  <thead>\n",
       "    <tr style=\"text-align: right;\">\n",
       "      <th></th>\n",
       "      <th>city</th>\n",
       "      <th>networkDomain</th>\n",
       "      <th>networkLocation</th>\n",
       "      <th>flashVersion</th>\n",
       "      <th>language</th>\n",
       "      <th>screenResolution</th>\n",
       "      <th>screenName</th>\n",
       "      <th>browser</th>\n",
       "      <th>operatingSystem</th>\n",
       "      <th>mobileDeviceInfo</th>\n",
       "      <th>adSlot</th>\n",
       "      <th>adMatchType</th>\n",
       "      <th>adFormat</th>\n",
       "      <th>adTargetingType</th>\n",
       "      <th>adwordsCriteriaID</th>\n",
       "    </tr>\n",
       "  </thead>\n",
       "  <tbody>\n",
       "    <tr>\n",
       "      <th>count</th>\n",
       "      <td>21306</td>\n",
       "      <td>21306</td>\n",
       "      <td>21306</td>\n",
       "      <td>21306</td>\n",
       "      <td>21306</td>\n",
       "      <td>21306</td>\n",
       "      <td>21306</td>\n",
       "      <td>21306</td>\n",
       "      <td>21306</td>\n",
       "      <td>21306</td>\n",
       "      <td>21306</td>\n",
       "      <td>21306</td>\n",
       "      <td>21306</td>\n",
       "      <td>21306</td>\n",
       "      <td>21306</td>\n",
       "    </tr>\n",
       "    <tr>\n",
       "      <th>unique</th>\n",
       "      <td>72</td>\n",
       "      <td>90</td>\n",
       "      <td>279</td>\n",
       "      <td>6</td>\n",
       "      <td>31</td>\n",
       "      <td>213</td>\n",
       "      <td>13</td>\n",
       "      <td>13</td>\n",
       "      <td>6</td>\n",
       "      <td>702</td>\n",
       "      <td>5</td>\n",
       "      <td>4</td>\n",
       "      <td>2</td>\n",
       "      <td>2</td>\n",
       "      <td>277</td>\n",
       "    </tr>\n",
       "    <tr>\n",
       "      <th>top</th>\n",
       "      <td>Olinda</td>\n",
       "      <td>(not set)</td>\n",
       "      <td>(not set)</td>\n",
       "      <td>(not set)</td>\n",
       "      <td>pt-br</td>\n",
       "      <td>360x640</td>\n",
       "      <td>farmacia12.com.br/</td>\n",
       "      <td>Chrome</td>\n",
       "      <td>Android</td>\n",
       "      <td>Apple iPhone</td>\n",
       "      <td>Google search: Top</td>\n",
       "      <td>Broad match</td>\n",
       "      <td>Text</td>\n",
       "      <td>Keyword</td>\n",
       "      <td>10334511</td>\n",
       "    </tr>\n",
       "    <tr>\n",
       "      <th>freq</th>\n",
       "      <td>8271</td>\n",
       "      <td>10839</td>\n",
       "      <td>6581</td>\n",
       "      <td>21299</td>\n",
       "      <td>20777</td>\n",
       "      <td>10198</td>\n",
       "      <td>20113</td>\n",
       "      <td>18725</td>\n",
       "      <td>19885</td>\n",
       "      <td>1342</td>\n",
       "      <td>17154</td>\n",
       "      <td>14380</td>\n",
       "      <td>21287</td>\n",
       "      <td>21287</td>\n",
       "      <td>1696</td>\n",
       "    </tr>\n",
       "  </tbody>\n",
       "</table>\n",
       "</div>"
      ],
      "text/plain": [
       "          city networkDomain networkLocation flashVersion language  \\\n",
       "count    21306         21306           21306        21306    21306   \n",
       "unique      72            90             279            6       31   \n",
       "top     Olinda     (not set)       (not set)    (not set)    pt-br   \n",
       "freq      8271         10839            6581        21299    20777   \n",
       "\n",
       "       screenResolution          screenName browser operatingSystem  \\\n",
       "count             21306               21306   21306           21306   \n",
       "unique              213                  13      13               6   \n",
       "top             360x640  farmacia12.com.br/  Chrome         Android   \n",
       "freq              10198               20113   18725           19885   \n",
       "\n",
       "       mobileDeviceInfo              adSlot  adMatchType adFormat  \\\n",
       "count             21306               21306        21306    21306   \n",
       "unique              702                   5            4        2   \n",
       "top        Apple iPhone  Google search: Top  Broad match     Text   \n",
       "freq               1342               17154        14380    21287   \n",
       "\n",
       "       adTargetingType adwordsCriteriaID  \n",
       "count            21306             21306  \n",
       "unique               2               277  \n",
       "top            Keyword          10334511  \n",
       "freq             21287              1696  "
      ]
     },
     "execution_count": 5,
     "metadata": {},
     "output_type": "execute_result"
    }
   ],
   "source": [
    "dataset.describe(include=['category'])"
   ]
  },
  {
   "cell_type": "markdown",
   "metadata": {
    "id": "AFwrJxNGnWvL"
   },
   "source": [
    "A coluna city tem 72 valores distintos, isso significa que tem mais cidades do que queremos trabalhar, pois só queremos as cidades da região metropolitana do recife, então vamos filtra-las"
   ]
  },
  {
   "cell_type": "code",
   "execution_count": 6,
   "metadata": {
    "id": "fa9cGBLEnWvM"
   },
   "outputs": [],
   "source": [
    "allowed_cities = [\n",
    "    'Abreu e Lima', \n",
    "    'Cabo de Santo Agostinho', \n",
    "    'Camaragibe', \n",
    "    'Goiana', \n",
    "    'Igarassu', \n",
    "    'Itamaraca', \n",
    "    'Ipojuca', \n",
    "    'Itapissuma',\n",
    "    'Jaboatao dos Guararapes',\n",
    "    'Moreno',\n",
    "    'Olinda',\n",
    "    'Paulista',\n",
    "    'Recife',\n",
    "    'Sao Lourenco da Mata'\n",
    "]\n",
    "\n",
    "dataset = dataset[dataset.city.isin(allowed_cities)]"
   ]
  },
  {
   "cell_type": "code",
   "execution_count": 7,
   "metadata": {
    "id": "vld9ut2pnWvM",
    "outputId": "e5d48a3e-fa1a-4d72-fa25-e49874e9c5f8"
   },
   "outputs": [
    {
     "data": {
      "text/html": [
       "<div>\n",
       "<style scoped>\n",
       "    .dataframe tbody tr th:only-of-type {\n",
       "        vertical-align: middle;\n",
       "    }\n",
       "\n",
       "    .dataframe tbody tr th {\n",
       "        vertical-align: top;\n",
       "    }\n",
       "\n",
       "    .dataframe thead th {\n",
       "        text-align: right;\n",
       "    }\n",
       "</style>\n",
       "<table border=\"1\" class=\"dataframe\">\n",
       "  <thead>\n",
       "    <tr style=\"text-align: right;\">\n",
       "      <th></th>\n",
       "      <th>city</th>\n",
       "      <th>networkDomain</th>\n",
       "      <th>networkLocation</th>\n",
       "      <th>flashVersion</th>\n",
       "      <th>language</th>\n",
       "      <th>screenResolution</th>\n",
       "      <th>screenName</th>\n",
       "      <th>browser</th>\n",
       "      <th>operatingSystem</th>\n",
       "      <th>mobileDeviceInfo</th>\n",
       "      <th>adSlot</th>\n",
       "      <th>adMatchType</th>\n",
       "      <th>adFormat</th>\n",
       "      <th>adTargetingType</th>\n",
       "      <th>adwordsCriteriaID</th>\n",
       "    </tr>\n",
       "  </thead>\n",
       "  <tbody>\n",
       "    <tr>\n",
       "      <th>count</th>\n",
       "      <td>18792</td>\n",
       "      <td>18792</td>\n",
       "      <td>18792</td>\n",
       "      <td>18792</td>\n",
       "      <td>18792</td>\n",
       "      <td>18792</td>\n",
       "      <td>18792</td>\n",
       "      <td>18792</td>\n",
       "      <td>18792</td>\n",
       "      <td>18792</td>\n",
       "      <td>18792</td>\n",
       "      <td>18792</td>\n",
       "      <td>18792</td>\n",
       "      <td>18792</td>\n",
       "      <td>18792</td>\n",
       "    </tr>\n",
       "    <tr>\n",
       "      <th>unique</th>\n",
       "      <td>14</td>\n",
       "      <td>64</td>\n",
       "      <td>238</td>\n",
       "      <td>6</td>\n",
       "      <td>28</td>\n",
       "      <td>201</td>\n",
       "      <td>12</td>\n",
       "      <td>13</td>\n",
       "      <td>6</td>\n",
       "      <td>667</td>\n",
       "      <td>5</td>\n",
       "      <td>4</td>\n",
       "      <td>2</td>\n",
       "      <td>2</td>\n",
       "      <td>267</td>\n",
       "    </tr>\n",
       "    <tr>\n",
       "      <th>top</th>\n",
       "      <td>Olinda</td>\n",
       "      <td>(not set)</td>\n",
       "      <td>(not set)</td>\n",
       "      <td>(not set)</td>\n",
       "      <td>pt-br</td>\n",
       "      <td>360x640</td>\n",
       "      <td>farmacia12.com.br/</td>\n",
       "      <td>Chrome</td>\n",
       "      <td>Android</td>\n",
       "      <td>Apple iPhone</td>\n",
       "      <td>Google search: Top</td>\n",
       "      <td>Broad match</td>\n",
       "      <td>Text</td>\n",
       "      <td>Keyword</td>\n",
       "      <td>10334511</td>\n",
       "    </tr>\n",
       "    <tr>\n",
       "      <th>freq</th>\n",
       "      <td>8271</td>\n",
       "      <td>9251</td>\n",
       "      <td>6248</td>\n",
       "      <td>18785</td>\n",
       "      <td>18318</td>\n",
       "      <td>8927</td>\n",
       "      <td>17758</td>\n",
       "      <td>16545</td>\n",
       "      <td>17561</td>\n",
       "      <td>1158</td>\n",
       "      <td>14961</td>\n",
       "      <td>12644</td>\n",
       "      <td>18775</td>\n",
       "      <td>18775</td>\n",
       "      <td>1514</td>\n",
       "    </tr>\n",
       "  </tbody>\n",
       "</table>\n",
       "</div>"
      ],
      "text/plain": [
       "          city networkDomain networkLocation flashVersion language  \\\n",
       "count    18792         18792           18792        18792    18792   \n",
       "unique      14            64             238            6       28   \n",
       "top     Olinda     (not set)       (not set)    (not set)    pt-br   \n",
       "freq      8271          9251            6248        18785    18318   \n",
       "\n",
       "       screenResolution          screenName browser operatingSystem  \\\n",
       "count             18792               18792   18792           18792   \n",
       "unique              201                  12      13               6   \n",
       "top             360x640  farmacia12.com.br/  Chrome         Android   \n",
       "freq               8927               17758   16545           17561   \n",
       "\n",
       "       mobileDeviceInfo              adSlot  adMatchType adFormat  \\\n",
       "count             18792               18792        18792    18792   \n",
       "unique              667                   5            4        2   \n",
       "top        Apple iPhone  Google search: Top  Broad match     Text   \n",
       "freq               1158               14961        12644    18775   \n",
       "\n",
       "       adTargetingType adwordsCriteriaID  \n",
       "count            18792             18792  \n",
       "unique               2               267  \n",
       "top            Keyword          10334511  \n",
       "freq             18775              1514  "
      ]
     },
     "execution_count": 7,
     "metadata": {},
     "output_type": "execute_result"
    }
   ],
   "source": [
    "dataset.describe(include=['category'])"
   ]
  },
  {
   "cell_type": "markdown",
   "metadata": {
    "id": "o7bm69PLnWvN"
   },
   "source": [
    "Temos muitos `(not set)` que são os null nas colunas `networkDomain`, `networkLocation` e `flashVersion`, e essas colunas não agregam muito ao nosso dataset, então iremos apaga-las. Temos 28 valores diferente para `language` e isso não parece fazer muito sentido, pois filtramos só por cidades da RMR, e como ela não agrega muito valor ao nosso dataset, iremos apagar-la.\n",
    "\n",
    "Outra coluna que podemos apagar é adwordsCriteriaID, pois são id unicos gerados pelo google e para esse projeto não iremos usar-los"
   ]
  },
  {
   "cell_type": "code",
   "execution_count": 8,
   "metadata": {
    "id": "ay5Uo-XFnWvN"
   },
   "outputs": [],
   "source": [
    "dataset = dataset.drop(columns=['networkDomain', 'networkLocation', 'flashVersion', 'language', 'adwordsCriteriaID'])"
   ]
  },
  {
   "cell_type": "code",
   "execution_count": 9,
   "metadata": {
    "id": "FFF20_jxnWvO",
    "outputId": "d9d0bf32-6323-427f-f5ae-80347f9d177e"
   },
   "outputs": [
    {
     "data": {
      "text/html": [
       "<div>\n",
       "<style scoped>\n",
       "    .dataframe tbody tr th:only-of-type {\n",
       "        vertical-align: middle;\n",
       "    }\n",
       "\n",
       "    .dataframe tbody tr th {\n",
       "        vertical-align: top;\n",
       "    }\n",
       "\n",
       "    .dataframe thead th {\n",
       "        text-align: right;\n",
       "    }\n",
       "</style>\n",
       "<table border=\"1\" class=\"dataframe\">\n",
       "  <thead>\n",
       "    <tr style=\"text-align: right;\">\n",
       "      <th></th>\n",
       "      <th>city</th>\n",
       "      <th>screenResolution</th>\n",
       "      <th>screenName</th>\n",
       "      <th>browser</th>\n",
       "      <th>operatingSystem</th>\n",
       "      <th>mobileDeviceInfo</th>\n",
       "      <th>adSlot</th>\n",
       "      <th>adMatchType</th>\n",
       "      <th>adFormat</th>\n",
       "      <th>adTargetingType</th>\n",
       "    </tr>\n",
       "  </thead>\n",
       "  <tbody>\n",
       "    <tr>\n",
       "      <th>count</th>\n",
       "      <td>18792</td>\n",
       "      <td>18792</td>\n",
       "      <td>18792</td>\n",
       "      <td>18792</td>\n",
       "      <td>18792</td>\n",
       "      <td>18792</td>\n",
       "      <td>18792</td>\n",
       "      <td>18792</td>\n",
       "      <td>18792</td>\n",
       "      <td>18792</td>\n",
       "    </tr>\n",
       "    <tr>\n",
       "      <th>unique</th>\n",
       "      <td>14</td>\n",
       "      <td>201</td>\n",
       "      <td>12</td>\n",
       "      <td>13</td>\n",
       "      <td>6</td>\n",
       "      <td>667</td>\n",
       "      <td>5</td>\n",
       "      <td>4</td>\n",
       "      <td>2</td>\n",
       "      <td>2</td>\n",
       "    </tr>\n",
       "    <tr>\n",
       "      <th>top</th>\n",
       "      <td>Olinda</td>\n",
       "      <td>360x640</td>\n",
       "      <td>farmacia12.com.br/</td>\n",
       "      <td>Chrome</td>\n",
       "      <td>Android</td>\n",
       "      <td>Apple iPhone</td>\n",
       "      <td>Google search: Top</td>\n",
       "      <td>Broad match</td>\n",
       "      <td>Text</td>\n",
       "      <td>Keyword</td>\n",
       "    </tr>\n",
       "    <tr>\n",
       "      <th>freq</th>\n",
       "      <td>8271</td>\n",
       "      <td>8927</td>\n",
       "      <td>17758</td>\n",
       "      <td>16545</td>\n",
       "      <td>17561</td>\n",
       "      <td>1158</td>\n",
       "      <td>14961</td>\n",
       "      <td>12644</td>\n",
       "      <td>18775</td>\n",
       "      <td>18775</td>\n",
       "    </tr>\n",
       "  </tbody>\n",
       "</table>\n",
       "</div>"
      ],
      "text/plain": [
       "          city screenResolution          screenName browser operatingSystem  \\\n",
       "count    18792            18792               18792   18792           18792   \n",
       "unique      14              201                  12      13               6   \n",
       "top     Olinda          360x640  farmacia12.com.br/  Chrome         Android   \n",
       "freq      8271             8927               17758   16545           17561   \n",
       "\n",
       "       mobileDeviceInfo              adSlot  adMatchType adFormat  \\\n",
       "count             18792               18792        18792    18792   \n",
       "unique              667                   5            4        2   \n",
       "top        Apple iPhone  Google search: Top  Broad match     Text   \n",
       "freq               1158               14961        12644    18775   \n",
       "\n",
       "       adTargetingType  \n",
       "count            18792  \n",
       "unique               2  \n",
       "top            Keyword  \n",
       "freq             18775  "
      ]
     },
     "execution_count": 9,
     "metadata": {},
     "output_type": "execute_result"
    }
   ],
   "source": [
    "dataset.describe(include=['category'])"
   ]
  },
  {
   "cell_type": "markdown",
   "metadata": {
    "id": "UnvDCWtknWvO"
   },
   "source": [
    "Algumas colunas tem poucos valores únicos, e iremos analisar-las usando `.value_counts()` para entender o que esse valores significam."
   ]
  },
  {
   "cell_type": "code",
   "execution_count": 10,
   "metadata": {
    "id": "g6CWl7jfnWvP",
    "outputId": "a14d888a-82fa-460f-aa4c-ba6501ab29ce"
   },
   "outputs": [
    {
     "name": "stdout",
     "output_type": "stream",
     "text": [
      "farmacia12.com.br/                                                                                                                                                                                                                                                 17758\n",
      "farmacia12.com.br/index2.html                                                                                                                                                                                                                                        832\n",
      "farmacia12.com.br/pagar.html                                                                                                                                                                                                                                          98\n",
      "farmacia12.com.br/lista_medicamento.html                                                                                                                                                                                                                              67\n",
      "farmacia12.com.br/index.html                                                                                                                                                                                                                                          16\n",
      "farmacia12.com.br/ofertas.html                                                                                                                                                                                                                                        10\n",
      "farmacia12.com.br.googleweblight.com/                                                                                                                                                                                                                                  5\n",
      "farmacia12.com.br/pagseguro.html                                                                                                                                                                                                                                       2\n",
      "farmacia12.com.br/trabalhe_conosco.html                                                                                                                                                                                                                                1\n",
      "farmacia12.com.br/?nx=134&ny=18&clkt=93&bg=!tbaltq5EHF3ptHcY19wCAAAB0lIAAAC-mQG3n9s7EzkyTrGw0jW7gMtN6371bB8_TUmnoqZ16kgLOtTVNWR3OUYbqdIEsDTVr2vJpOsSVmsc2tTW9_-oSfrWbIiXaxbWo_UlgUOUVKh4tA3R28Wvec_fh3JVLiiCQtK2p8BL3et6qDmYD7m2a0mkz58V6lGNbFEmywpqJ7myFCzmW6j        1\n",
      "farmacia12.com.br/?nx=110&ny=36&clkt=49&bg=!GRqlGgJE7OvY1aCwB6YCAAABx1IAAACkmQG9zQhR4bzGvEn7VtAT07PhPxK9fx386IMvtexs9FV3kl9PcQH08xlxsBpnpvfMJAKAqET2qc_idpqfCdN1HpHsQx0kguaOFY2SoZAqT_PKpvblJzH8Uk78Q2ldEyA3j-Pn2cl5OxvTdxlDZaWMWJGNE5v7DTRiQr0EvBZC7iWrQr6U8qH        1\n",
      "farmacia12.com.br/?clkt=176&bg=!CgmlCRFEMQuek77wezoCAAAA2VIAAAA6mQG3VfHQhowHEfO4ZbgU_yTkMIQ4vgGrvhqix20M5VBa0yfiNuSfJTkeKQvbYunt5IJij-aMU-OS8nmqJi8v6TAavfVpbBL2hvxNAvOkQJ3mSLvZxq-0a1pa0fPCDNymvzkGxNbWUh8ltcaUQHIPidLJhOIK8NHrWsVyC3EEADMRLT4fkYYxe9I-h8xm7zS        1\n",
      "farmacia12.com.br/?fbclid=IwAR1zSe5e-ugyxJFr_y1FTtBtiqYABuJIDfSl_KF_2ReamGi83fARguKGL84                                                                                                                                                                                0\n",
      "Name: screenName, dtype: int64\n",
      "\n",
      "Chrome               16545\n",
      "Safari                1064\n",
      "Samsung Internet       992\n",
      "Android Webview         74\n",
      "Android Browser         66\n",
      "Firefox                 20\n",
      "Opera                   15\n",
      "UC Browser               8\n",
      "Edge                     3\n",
      "Opera Mini               2\n",
      "Safari (in-app)          1\n",
      "Puffin                   1\n",
      "Internet Explorer        1\n",
      "Name: browser, dtype: int64\n",
      "\n",
      "Android          17561\n",
      "iOS               1200\n",
      "Windows Phone       25\n",
      "Windows              4\n",
      "Tizen                1\n",
      "(not set)            1\n",
      "Name: operatingSystem, dtype: int64\n",
      "\n",
      "Google search: Top        14961\n",
      "Google search: Other       2584\n",
      "Search partners: Top       1010\n",
      "Search partners: Other      220\n",
      "(not set)                    17\n",
      "Name: adSlot, dtype: int64\n",
      "\n",
      "Broad match     12644\n",
      "Phrase match     4891\n",
      "Exact match      1240\n",
      "(not set)          17\n",
      "Name: adMatchType, dtype: int64\n",
      "\n",
      "Text         18775\n",
      "(not set)       17\n",
      "Name: adFormat, dtype: int64\n",
      "\n",
      "Keyword      18775\n",
      "(not set)       17\n",
      "Name: adTargetingType, dtype: int64\n",
      "\n"
     ]
    }
   ],
   "source": [
    "print(dataset.screenName.value_counts())\n",
    "print()\n",
    "print(dataset.browser.value_counts())\n",
    "print()\n",
    "print(dataset.operatingSystem.value_counts())\n",
    "print()\n",
    "print(dataset.adSlot.value_counts())\n",
    "print()\n",
    "print(dataset.adMatchType.value_counts())\n",
    "print()\n",
    "print(dataset.adFormat.value_counts())\n",
    "print()\n",
    "print(dataset.adTargetingType.value_counts())\n",
    "print()"
   ]
  },
  {
   "cell_type": "markdown",
   "metadata": {
    "id": "XRPqUEj3nWvP"
   },
   "source": [
    "A partir da célula acima conseguimos observamar que algumas colunas, `screenName`, `adFormat` e `adTargetingType` tem valores unários, então podemos remover-las.\n",
    "\n",
    "ScreenName tem valores unários pois todos esses dados são de uma única farmácia, então todos os anuncios são direcionados para o site dela. `adForma` e `adTargetingType` são uninário pois todos os anuncios são para o buscador do google e lá só se mostra o texto."
   ]
  },
  {
   "cell_type": "code",
   "execution_count": 11,
   "metadata": {
    "id": "Wp03WOGNnWvQ"
   },
   "outputs": [],
   "source": [
    "dataset = dataset.drop(columns=['screenName', 'adFormat', 'adTargetingType'])"
   ]
  },
  {
   "cell_type": "code",
   "execution_count": 12,
   "metadata": {
    "id": "YIwAKDe0nWvQ",
    "outputId": "d0ea86f8-f5f4-44d1-ad46-3cb465b5afc9"
   },
   "outputs": [
    {
     "data": {
      "text/html": [
       "<div>\n",
       "<style scoped>\n",
       "    .dataframe tbody tr th:only-of-type {\n",
       "        vertical-align: middle;\n",
       "    }\n",
       "\n",
       "    .dataframe tbody tr th {\n",
       "        vertical-align: top;\n",
       "    }\n",
       "\n",
       "    .dataframe thead th {\n",
       "        text-align: right;\n",
       "    }\n",
       "</style>\n",
       "<table border=\"1\" class=\"dataframe\">\n",
       "  <thead>\n",
       "    <tr style=\"text-align: right;\">\n",
       "      <th></th>\n",
       "      <th>javaEnabled</th>\n",
       "    </tr>\n",
       "  </thead>\n",
       "  <tbody>\n",
       "    <tr>\n",
       "      <th>count</th>\n",
       "      <td>18792</td>\n",
       "    </tr>\n",
       "    <tr>\n",
       "      <th>unique</th>\n",
       "      <td>1</td>\n",
       "    </tr>\n",
       "    <tr>\n",
       "      <th>top</th>\n",
       "      <td>True</td>\n",
       "    </tr>\n",
       "    <tr>\n",
       "      <th>freq</th>\n",
       "      <td>18792</td>\n",
       "    </tr>\n",
       "  </tbody>\n",
       "</table>\n",
       "</div>"
      ],
      "text/plain": [
       "       javaEnabled\n",
       "count        18792\n",
       "unique           1\n",
       "top           True\n",
       "freq         18792"
      ]
     },
     "execution_count": 12,
     "metadata": {},
     "output_type": "execute_result"
    }
   ],
   "source": [
    "dataset.describe(include=['boolean'])"
   ]
  },
  {
   "cell_type": "markdown",
   "metadata": {
    "id": "YdHH98rsnWvQ"
   },
   "source": [
    "Vamos olhar agora para os dados numéricos do nosso dataset e ver o que é relevante ou não, e tentar identificar erros nos nosso dados."
   ]
  },
  {
   "cell_type": "code",
   "execution_count": 13,
   "metadata": {
    "id": "ec_HZJOlnWvR",
    "outputId": "2b714579-4a47-4b99-93ae-674c7234767e"
   },
   "outputs": [
    {
     "data": {
      "text/html": [
       "<div>\n",
       "<style scoped>\n",
       "    .dataframe tbody tr th:only-of-type {\n",
       "        vertical-align: middle;\n",
       "    }\n",
       "\n",
       "    .dataframe tbody tr th {\n",
       "        vertical-align: top;\n",
       "    }\n",
       "\n",
       "    .dataframe thead th {\n",
       "        text-align: right;\n",
       "    }\n",
       "</style>\n",
       "<table border=\"1\" class=\"dataframe\">\n",
       "  <thead>\n",
       "    <tr style=\"text-align: right;\">\n",
       "      <th></th>\n",
       "      <th>latitude</th>\n",
       "      <th>longitude</th>\n",
       "      <th>users</th>\n",
       "      <th>impressions</th>\n",
       "      <th>adClicks</th>\n",
       "      <th>adCost</th>\n",
       "      <th>CPM</th>\n",
       "      <th>CPC</th>\n",
       "      <th>CTR</th>\n",
       "      <th>costPerConversion</th>\n",
       "      <th>sessionDuration</th>\n",
       "      <th>organicSearches</th>\n",
       "      <th>goal1Starts</th>\n",
       "      <th>pageviews</th>\n",
       "      <th>uniquePageviews</th>\n",
       "      <th>timeOnPage</th>\n",
       "      <th>exits</th>\n",
       "      <th>pageLoadTime</th>\n",
       "    </tr>\n",
       "  </thead>\n",
       "  <tbody>\n",
       "    <tr>\n",
       "      <th>count</th>\n",
       "      <td>18792.00000</td>\n",
       "      <td>18792.000000</td>\n",
       "      <td>18792.000000</td>\n",
       "      <td>18792.000000</td>\n",
       "      <td>18792.000000</td>\n",
       "      <td>18792.000000</td>\n",
       "      <td>1.879200e+04</td>\n",
       "      <td>18792.000000</td>\n",
       "      <td>1.879200e+04</td>\n",
       "      <td>18792.000000</td>\n",
       "      <td>18792.000000</td>\n",
       "      <td>18792.000000</td>\n",
       "      <td>18792.000000</td>\n",
       "      <td>18792.000000</td>\n",
       "      <td>18792.000000</td>\n",
       "      <td>18792.000000</td>\n",
       "      <td>18792.000000</td>\n",
       "      <td>18792.000000</td>\n",
       "    </tr>\n",
       "    <tr>\n",
       "      <th>mean</th>\n",
       "      <td>-8.00488</td>\n",
       "      <td>-34.881276</td>\n",
       "      <td>1.001117</td>\n",
       "      <td>1.150649</td>\n",
       "      <td>1.003140</td>\n",
       "      <td>1.611762</td>\n",
       "      <td>3.951189e+14</td>\n",
       "      <td>0.211555</td>\n",
       "      <td>2.117012e+14</td>\n",
       "      <td>0.864692</td>\n",
       "      <td>71.284217</td>\n",
       "      <td>0.000958</td>\n",
       "      <td>0.706950</td>\n",
       "      <td>3.097435</td>\n",
       "      <td>2.014527</td>\n",
       "      <td>71.255428</td>\n",
       "      <td>0.994785</td>\n",
       "      <td>124.123138</td>\n",
       "    </tr>\n",
       "    <tr>\n",
       "      <th>std</th>\n",
       "      <td>0.04519</td>\n",
       "      <td>0.040569</td>\n",
       "      <td>0.033411</td>\n",
       "      <td>1.266024</td>\n",
       "      <td>0.492443</td>\n",
       "      <td>127.672850</td>\n",
       "      <td>3.594422e+15</td>\n",
       "      <td>0.118098</td>\n",
       "      <td>2.071043e+15</td>\n",
       "      <td>88.354133</td>\n",
       "      <td>187.347568</td>\n",
       "      <td>0.032610</td>\n",
       "      <td>0.468312</td>\n",
       "      <td>2.416688</td>\n",
       "      <td>1.001490</td>\n",
       "      <td>181.734060</td>\n",
       "      <td>0.187339</td>\n",
       "      <td>1701.595126</td>\n",
       "    </tr>\n",
       "    <tr>\n",
       "      <th>min</th>\n",
       "      <td>-8.39810</td>\n",
       "      <td>-35.104500</td>\n",
       "      <td>1.000000</td>\n",
       "      <td>0.000000</td>\n",
       "      <td>0.000000</td>\n",
       "      <td>0.000000</td>\n",
       "      <td>0.000000e+00</td>\n",
       "      <td>0.000000</td>\n",
       "      <td>0.000000e+00</td>\n",
       "      <td>0.000000</td>\n",
       "      <td>0.000000</td>\n",
       "      <td>0.000000</td>\n",
       "      <td>0.000000</td>\n",
       "      <td>1.000000</td>\n",
       "      <td>0.000000</td>\n",
       "      <td>0.000000</td>\n",
       "      <td>0.000000</td>\n",
       "      <td>0.000000</td>\n",
       "    </tr>\n",
       "    <tr>\n",
       "      <th>25%</th>\n",
       "      <td>-8.05220</td>\n",
       "      <td>-34.928600</td>\n",
       "      <td>1.000000</td>\n",
       "      <td>1.000000</td>\n",
       "      <td>1.000000</td>\n",
       "      <td>0.140000</td>\n",
       "      <td>1.200000e+02</td>\n",
       "      <td>0.130000</td>\n",
       "      <td>1.000000e+02</td>\n",
       "      <td>0.000000</td>\n",
       "      <td>0.000000</td>\n",
       "      <td>0.000000</td>\n",
       "      <td>0.000000</td>\n",
       "      <td>1.000000</td>\n",
       "      <td>1.000000</td>\n",
       "      <td>0.000000</td>\n",
       "      <td>1.000000</td>\n",
       "      <td>0.000000</td>\n",
       "    </tr>\n",
       "    <tr>\n",
       "      <th>50%</th>\n",
       "      <td>-7.99060</td>\n",
       "      <td>-34.873500</td>\n",
       "      <td>1.000000</td>\n",
       "      <td>1.000000</td>\n",
       "      <td>1.000000</td>\n",
       "      <td>0.260000</td>\n",
       "      <td>2.500000e+02</td>\n",
       "      <td>0.240000</td>\n",
       "      <td>1.000000e+02</td>\n",
       "      <td>0.144200</td>\n",
       "      <td>14.000000</td>\n",
       "      <td>0.000000</td>\n",
       "      <td>1.000000</td>\n",
       "      <td>3.000000</td>\n",
       "      <td>2.000000</td>\n",
       "      <td>14.000000</td>\n",
       "      <td>1.000000</td>\n",
       "      <td>0.000000</td>\n",
       "    </tr>\n",
       "    <tr>\n",
       "      <th>75%</th>\n",
       "      <td>-7.99060</td>\n",
       "      <td>-34.841700</td>\n",
       "      <td>1.000000</td>\n",
       "      <td>1.000000</td>\n",
       "      <td>1.000000</td>\n",
       "      <td>0.310000</td>\n",
       "      <td>3.100000e+02</td>\n",
       "      <td>0.300000</td>\n",
       "      <td>1.000000e+02</td>\n",
       "      <td>0.280000</td>\n",
       "      <td>58.000000</td>\n",
       "      <td>0.000000</td>\n",
       "      <td>1.000000</td>\n",
       "      <td>4.000000</td>\n",
       "      <td>2.000000</td>\n",
       "      <td>59.000000</td>\n",
       "      <td>1.000000</td>\n",
       "      <td>0.000000</td>\n",
       "    </tr>\n",
       "    <tr>\n",
       "      <th>90%</th>\n",
       "      <td>-7.93760</td>\n",
       "      <td>-34.841700</td>\n",
       "      <td>1.000000</td>\n",
       "      <td>2.000000</td>\n",
       "      <td>2.000000</td>\n",
       "      <td>0.380000</td>\n",
       "      <td>3.800000e+02</td>\n",
       "      <td>0.340000</td>\n",
       "      <td>2.000000e+02</td>\n",
       "      <td>0.340000</td>\n",
       "      <td>171.000000</td>\n",
       "      <td>0.000000</td>\n",
       "      <td>1.000000</td>\n",
       "      <td>6.000000</td>\n",
       "      <td>3.000000</td>\n",
       "      <td>173.000000</td>\n",
       "      <td>1.000000</td>\n",
       "      <td>0.000000</td>\n",
       "    </tr>\n",
       "    <tr>\n",
       "      <th>99%</th>\n",
       "      <td>-7.93760</td>\n",
       "      <td>-34.841700</td>\n",
       "      <td>1.000000</td>\n",
       "      <td>7.000000</td>\n",
       "      <td>2.000000</td>\n",
       "      <td>0.700000</td>\n",
       "      <td>1.309998e+16</td>\n",
       "      <td>0.440000</td>\n",
       "      <td>6.666670e+15</td>\n",
       "      <td>0.680000</td>\n",
       "      <td>1030.090000</td>\n",
       "      <td>0.000000</td>\n",
       "      <td>1.000000</td>\n",
       "      <td>12.000000</td>\n",
       "      <td>5.000000</td>\n",
       "      <td>989.270000</td>\n",
       "      <td>2.000000</td>\n",
       "      <td>0.000000</td>\n",
       "    </tr>\n",
       "    <tr>\n",
       "      <th>max</th>\n",
       "      <td>-7.56300</td>\n",
       "      <td>-34.841700</td>\n",
       "      <td>2.000000</td>\n",
       "      <td>21.000000</td>\n",
       "      <td>5.000000</td>\n",
       "      <td>12635.000000</td>\n",
       "      <td>5.783330e+16</td>\n",
       "      <td>1.030000</td>\n",
       "      <td>7.692310e+16</td>\n",
       "      <td>12058.000000</td>\n",
       "      <td>2937.000000</td>\n",
       "      <td>2.000000</td>\n",
       "      <td>3.000000</td>\n",
       "      <td>49.000000</td>\n",
       "      <td>10.000000</td>\n",
       "      <td>2937.000000</td>\n",
       "      <td>3.000000</td>\n",
       "      <td>76721.000000</td>\n",
       "    </tr>\n",
       "  </tbody>\n",
       "</table>\n",
       "</div>"
      ],
      "text/plain": [
       "          latitude     longitude         users   impressions      adClicks  \\\n",
       "count  18792.00000  18792.000000  18792.000000  18792.000000  18792.000000   \n",
       "mean      -8.00488    -34.881276      1.001117      1.150649      1.003140   \n",
       "std        0.04519      0.040569      0.033411      1.266024      0.492443   \n",
       "min       -8.39810    -35.104500      1.000000      0.000000      0.000000   \n",
       "25%       -8.05220    -34.928600      1.000000      1.000000      1.000000   \n",
       "50%       -7.99060    -34.873500      1.000000      1.000000      1.000000   \n",
       "75%       -7.99060    -34.841700      1.000000      1.000000      1.000000   \n",
       "90%       -7.93760    -34.841700      1.000000      2.000000      2.000000   \n",
       "99%       -7.93760    -34.841700      1.000000      7.000000      2.000000   \n",
       "max       -7.56300    -34.841700      2.000000     21.000000      5.000000   \n",
       "\n",
       "             adCost           CPM           CPC           CTR  \\\n",
       "count  18792.000000  1.879200e+04  18792.000000  1.879200e+04   \n",
       "mean       1.611762  3.951189e+14      0.211555  2.117012e+14   \n",
       "std      127.672850  3.594422e+15      0.118098  2.071043e+15   \n",
       "min        0.000000  0.000000e+00      0.000000  0.000000e+00   \n",
       "25%        0.140000  1.200000e+02      0.130000  1.000000e+02   \n",
       "50%        0.260000  2.500000e+02      0.240000  1.000000e+02   \n",
       "75%        0.310000  3.100000e+02      0.300000  1.000000e+02   \n",
       "90%        0.380000  3.800000e+02      0.340000  2.000000e+02   \n",
       "99%        0.700000  1.309998e+16      0.440000  6.666670e+15   \n",
       "max    12635.000000  5.783330e+16      1.030000  7.692310e+16   \n",
       "\n",
       "       costPerConversion  sessionDuration  organicSearches   goal1Starts  \\\n",
       "count       18792.000000     18792.000000     18792.000000  18792.000000   \n",
       "mean            0.864692        71.284217         0.000958      0.706950   \n",
       "std            88.354133       187.347568         0.032610      0.468312   \n",
       "min             0.000000         0.000000         0.000000      0.000000   \n",
       "25%             0.000000         0.000000         0.000000      0.000000   \n",
       "50%             0.144200        14.000000         0.000000      1.000000   \n",
       "75%             0.280000        58.000000         0.000000      1.000000   \n",
       "90%             0.340000       171.000000         0.000000      1.000000   \n",
       "99%             0.680000      1030.090000         0.000000      1.000000   \n",
       "max         12058.000000      2937.000000         2.000000      3.000000   \n",
       "\n",
       "          pageviews  uniquePageviews    timeOnPage         exits  pageLoadTime  \n",
       "count  18792.000000     18792.000000  18792.000000  18792.000000  18792.000000  \n",
       "mean       3.097435         2.014527     71.255428      0.994785    124.123138  \n",
       "std        2.416688         1.001490    181.734060      0.187339   1701.595126  \n",
       "min        1.000000         0.000000      0.000000      0.000000      0.000000  \n",
       "25%        1.000000         1.000000      0.000000      1.000000      0.000000  \n",
       "50%        3.000000         2.000000     14.000000      1.000000      0.000000  \n",
       "75%        4.000000         2.000000     59.000000      1.000000      0.000000  \n",
       "90%        6.000000         3.000000    173.000000      1.000000      0.000000  \n",
       "99%       12.000000         5.000000    989.270000      2.000000      0.000000  \n",
       "max       49.000000        10.000000   2937.000000      3.000000  76721.000000  "
      ]
     },
     "execution_count": 13,
     "metadata": {},
     "output_type": "execute_result"
    }
   ],
   "source": [
    "dataset.describe(include=['number'], percentiles=[.25, .5, .75, .9, .99])"
   ]
  },
  {
   "cell_type": "markdown",
   "metadata": {
    "id": "5DHzSpsZnWvR"
   },
   "source": [
    "`users`, como nós já esperávamos - como temos lat, lng, deviceInfo esperavamos que cada linha represetava um único usuário - é unário(1 até o p99), então decidimos em remover-la.\n",
    "\n",
    "`CPM` e `CPC` são duas métricas de monetizacão de anúncios que decidirmos por não utilizar nesse projeto.\n",
    "\n",
    "`CTR` é uma métrica super importante que parece está errada no nosso dataset, então iremos remover essa coluna e recalcular-la usando adClick/impressions\n",
    "\n",
    "`organicSearches` é praticamente unário(0 até o p99), então nós decidimos em remover-la.\n",
    "\n",
    "`goal1Starts` é praticamente unário(0 até o p99), então nós decidimos em remover-la.\n",
    "\n",
    "`uniquePageviews` é uma coluna que não compreendemos bem, então optamos por remover-la\n",
    "\n",
    "`exits` tem uma distribuição muito parecida com `adClicks`, então optamos por remover-la e a nossa taxa de rejeição sera baseado pelo tempo na página.\n",
    "\n",
    "`pageLoadTime` foi uma decepção para o projeto, pois estavamos esperançoso para relacionar a taxa de rejeição com o tempo para carregar a pagina, mas temos menos de 1% de instancias com valores diferentes de 0. Vamos remover-la também\n",
    "\n",
    "`sessionDuration` e `timeOnPage` são iguais, então iremos manter apenas `timeOnPage`\n",
    "\n",
    "`impressions` iremos remover todas as instancias com 0 impressões pois cada instancia deveria representar 1 ou mais impressões.\n",
    "\n",
    "`costPerConversion` não temos mais dados sobre conversão e não temos certeza da acuracia dessa coluna, então iremos remover-la."
   ]
  },
  {
   "cell_type": "code",
   "execution_count": 14,
   "metadata": {
    "id": "0BtUynqQnWvS"
   },
   "outputs": [],
   "source": [
    "dataset = dataset.drop(columns=['users', 'CPM', 'CPC', 'CTR', 'organicSearches', 'goal1Starts', 'uniquePageviews', 'exits', 'pageLoadTime', 'timeOnPage', 'costPerConversion'])"
   ]
  },
  {
   "cell_type": "code",
   "execution_count": 15,
   "metadata": {},
   "outputs": [],
   "source": [
    "dataset = dataset[dataset.impressions > 0]"
   ]
  },
  {
   "cell_type": "code",
   "execution_count": 16,
   "metadata": {
    "id": "EDlJqEJRnWvT"
   },
   "outputs": [],
   "source": [
    "dataset['ctr'] = dataset.adClicks.divide(dataset.impressions)\n",
    "dataset.ctr = dataset.ctr.fillna(0)"
   ]
  },
  {
   "cell_type": "code",
   "execution_count": 17,
   "metadata": {
    "id": "OYMiiBqxnWvT",
    "outputId": "5da9a349-9393-41fe-cab7-318d6005446f"
   },
   "outputs": [
    {
     "data": {
      "text/html": [
       "<div>\n",
       "<style scoped>\n",
       "    .dataframe tbody tr th:only-of-type {\n",
       "        vertical-align: middle;\n",
       "    }\n",
       "\n",
       "    .dataframe tbody tr th {\n",
       "        vertical-align: top;\n",
       "    }\n",
       "\n",
       "    .dataframe thead th {\n",
       "        text-align: right;\n",
       "    }\n",
       "</style>\n",
       "<table border=\"1\" class=\"dataframe\">\n",
       "  <thead>\n",
       "    <tr style=\"text-align: right;\">\n",
       "      <th></th>\n",
       "      <th>dateHourMinute</th>\n",
       "      <th>adMatchedQuery</th>\n",
       "      <th>city</th>\n",
       "      <th>latitude</th>\n",
       "      <th>longitude</th>\n",
       "      <th>javaEnabled</th>\n",
       "      <th>screenResolution</th>\n",
       "      <th>browser</th>\n",
       "      <th>operatingSystem</th>\n",
       "      <th>mobileDeviceInfo</th>\n",
       "      <th>adSlot</th>\n",
       "      <th>adMatchType</th>\n",
       "      <th>impressions</th>\n",
       "      <th>adClicks</th>\n",
       "      <th>adCost</th>\n",
       "      <th>sessionDuration</th>\n",
       "      <th>pageviews</th>\n",
       "      <th>ctr</th>\n",
       "    </tr>\n",
       "  </thead>\n",
       "  <tbody>\n",
       "    <tr>\n",
       "      <th>count</th>\n",
       "      <td>16745</td>\n",
       "      <td>16745</td>\n",
       "      <td>16745</td>\n",
       "      <td>16745.000000</td>\n",
       "      <td>16745.000000</td>\n",
       "      <td>16745</td>\n",
       "      <td>16745</td>\n",
       "      <td>16745</td>\n",
       "      <td>16745</td>\n",
       "      <td>16745</td>\n",
       "      <td>16745</td>\n",
       "      <td>16745</td>\n",
       "      <td>16745.000000</td>\n",
       "      <td>16745.000000</td>\n",
       "      <td>16745.000000</td>\n",
       "      <td>16745.000000</td>\n",
       "      <td>16745.000000</td>\n",
       "      <td>16745.000000</td>\n",
       "    </tr>\n",
       "    <tr>\n",
       "      <th>unique</th>\n",
       "      <td>NaN</td>\n",
       "      <td>10659</td>\n",
       "      <td>14</td>\n",
       "      <td>NaN</td>\n",
       "      <td>NaN</td>\n",
       "      <td>1</td>\n",
       "      <td>186</td>\n",
       "      <td>13</td>\n",
       "      <td>6</td>\n",
       "      <td>647</td>\n",
       "      <td>4</td>\n",
       "      <td>3</td>\n",
       "      <td>NaN</td>\n",
       "      <td>NaN</td>\n",
       "      <td>NaN</td>\n",
       "      <td>NaN</td>\n",
       "      <td>NaN</td>\n",
       "      <td>NaN</td>\n",
       "    </tr>\n",
       "    <tr>\n",
       "      <th>top</th>\n",
       "      <td>NaN</td>\n",
       "      <td>farmacia pague menos</td>\n",
       "      <td>Olinda</td>\n",
       "      <td>NaN</td>\n",
       "      <td>NaN</td>\n",
       "      <td>True</td>\n",
       "      <td>360x640</td>\n",
       "      <td>Chrome</td>\n",
       "      <td>Android</td>\n",
       "      <td>Apple iPhone</td>\n",
       "      <td>Google search: Top</td>\n",
       "      <td>Broad match</td>\n",
       "      <td>NaN</td>\n",
       "      <td>NaN</td>\n",
       "      <td>NaN</td>\n",
       "      <td>NaN</td>\n",
       "      <td>NaN</td>\n",
       "      <td>NaN</td>\n",
       "    </tr>\n",
       "    <tr>\n",
       "      <th>freq</th>\n",
       "      <td>NaN</td>\n",
       "      <td>344</td>\n",
       "      <td>7207</td>\n",
       "      <td>NaN</td>\n",
       "      <td>NaN</td>\n",
       "      <td>16745</td>\n",
       "      <td>8170</td>\n",
       "      <td>15040</td>\n",
       "      <td>15667</td>\n",
       "      <td>1010</td>\n",
       "      <td>13484</td>\n",
       "      <td>11276</td>\n",
       "      <td>NaN</td>\n",
       "      <td>NaN</td>\n",
       "      <td>NaN</td>\n",
       "      <td>NaN</td>\n",
       "      <td>NaN</td>\n",
       "      <td>NaN</td>\n",
       "    </tr>\n",
       "    <tr>\n",
       "      <th>mean</th>\n",
       "      <td>2019-10-11 09:00:21.126307072</td>\n",
       "      <td>NaN</td>\n",
       "      <td>NaN</td>\n",
       "      <td>-8.005151</td>\n",
       "      <td>-34.881921</td>\n",
       "      <td>NaN</td>\n",
       "      <td>NaN</td>\n",
       "      <td>NaN</td>\n",
       "      <td>NaN</td>\n",
       "      <td>NaN</td>\n",
       "      <td>NaN</td>\n",
       "      <td>NaN</td>\n",
       "      <td>1.291311</td>\n",
       "      <td>1.125769</td>\n",
       "      <td>1.808792</td>\n",
       "      <td>70.542192</td>\n",
       "      <td>3.149298</td>\n",
       "      <td>1.025961</td>\n",
       "    </tr>\n",
       "    <tr>\n",
       "      <th>min</th>\n",
       "      <td>2019-01-15 07:52:00</td>\n",
       "      <td>NaN</td>\n",
       "      <td>NaN</td>\n",
       "      <td>-8.398100</td>\n",
       "      <td>-35.104500</td>\n",
       "      <td>NaN</td>\n",
       "      <td>NaN</td>\n",
       "      <td>NaN</td>\n",
       "      <td>NaN</td>\n",
       "      <td>NaN</td>\n",
       "      <td>NaN</td>\n",
       "      <td>NaN</td>\n",
       "      <td>1.000000</td>\n",
       "      <td>0.000000</td>\n",
       "      <td>0.000000</td>\n",
       "      <td>0.000000</td>\n",
       "      <td>1.000000</td>\n",
       "      <td>0.000000</td>\n",
       "    </tr>\n",
       "    <tr>\n",
       "      <th>25%</th>\n",
       "      <td>2019-04-18 17:05:00</td>\n",
       "      <td>NaN</td>\n",
       "      <td>NaN</td>\n",
       "      <td>-8.052200</td>\n",
       "      <td>-34.928600</td>\n",
       "      <td>NaN</td>\n",
       "      <td>NaN</td>\n",
       "      <td>NaN</td>\n",
       "      <td>NaN</td>\n",
       "      <td>NaN</td>\n",
       "      <td>NaN</td>\n",
       "      <td>NaN</td>\n",
       "      <td>1.000000</td>\n",
       "      <td>1.000000</td>\n",
       "      <td>0.180000</td>\n",
       "      <td>0.000000</td>\n",
       "      <td>1.000000</td>\n",
       "      <td>1.000000</td>\n",
       "    </tr>\n",
       "    <tr>\n",
       "      <th>50%</th>\n",
       "      <td>2019-07-31 21:44:00</td>\n",
       "      <td>NaN</td>\n",
       "      <td>NaN</td>\n",
       "      <td>-7.990600</td>\n",
       "      <td>-34.873500</td>\n",
       "      <td>NaN</td>\n",
       "      <td>NaN</td>\n",
       "      <td>NaN</td>\n",
       "      <td>NaN</td>\n",
       "      <td>NaN</td>\n",
       "      <td>NaN</td>\n",
       "      <td>NaN</td>\n",
       "      <td>1.000000</td>\n",
       "      <td>1.000000</td>\n",
       "      <td>0.270000</td>\n",
       "      <td>15.000000</td>\n",
       "      <td>3.000000</td>\n",
       "      <td>1.000000</td>\n",
       "    </tr>\n",
       "    <tr>\n",
       "      <th>75%</th>\n",
       "      <td>2020-03-27 15:16:00</td>\n",
       "      <td>NaN</td>\n",
       "      <td>NaN</td>\n",
       "      <td>-7.990600</td>\n",
       "      <td>-34.841700</td>\n",
       "      <td>NaN</td>\n",
       "      <td>NaN</td>\n",
       "      <td>NaN</td>\n",
       "      <td>NaN</td>\n",
       "      <td>NaN</td>\n",
       "      <td>NaN</td>\n",
       "      <td>NaN</td>\n",
       "      <td>1.000000</td>\n",
       "      <td>1.000000</td>\n",
       "      <td>0.320000</td>\n",
       "      <td>60.000000</td>\n",
       "      <td>4.000000</td>\n",
       "      <td>1.000000</td>\n",
       "    </tr>\n",
       "    <tr>\n",
       "      <th>max</th>\n",
       "      <td>2021-03-13 21:15:00</td>\n",
       "      <td>NaN</td>\n",
       "      <td>NaN</td>\n",
       "      <td>-7.563000</td>\n",
       "      <td>-34.841700</td>\n",
       "      <td>NaN</td>\n",
       "      <td>NaN</td>\n",
       "      <td>NaN</td>\n",
       "      <td>NaN</td>\n",
       "      <td>NaN</td>\n",
       "      <td>NaN</td>\n",
       "      <td>NaN</td>\n",
       "      <td>21.000000</td>\n",
       "      <td>5.000000</td>\n",
       "      <td>12635.000000</td>\n",
       "      <td>2937.000000</td>\n",
       "      <td>26.000000</td>\n",
       "      <td>3.000000</td>\n",
       "    </tr>\n",
       "    <tr>\n",
       "      <th>std</th>\n",
       "      <td>NaN</td>\n",
       "      <td>NaN</td>\n",
       "      <td>NaN</td>\n",
       "      <td>0.045197</td>\n",
       "      <td>0.040481</td>\n",
       "      <td>NaN</td>\n",
       "      <td>NaN</td>\n",
       "      <td>NaN</td>\n",
       "      <td>NaN</td>\n",
       "      <td>NaN</td>\n",
       "      <td>NaN</td>\n",
       "      <td>NaN</td>\n",
       "      <td>1.271659</td>\n",
       "      <td>0.366177</td>\n",
       "      <td>135.250744</td>\n",
       "      <td>180.825997</td>\n",
       "      <td>2.411411</td>\n",
       "      <td>0.350041</td>\n",
       "    </tr>\n",
       "  </tbody>\n",
       "</table>\n",
       "</div>"
      ],
      "text/plain": [
       "                       dateHourMinute        adMatchedQuery    city  \\\n",
       "count                           16745                 16745   16745   \n",
       "unique                            NaN                 10659      14   \n",
       "top                               NaN  farmacia pague menos  Olinda   \n",
       "freq                              NaN                   344    7207   \n",
       "mean    2019-10-11 09:00:21.126307072                   NaN     NaN   \n",
       "min               2019-01-15 07:52:00                   NaN     NaN   \n",
       "25%               2019-04-18 17:05:00                   NaN     NaN   \n",
       "50%               2019-07-31 21:44:00                   NaN     NaN   \n",
       "75%               2020-03-27 15:16:00                   NaN     NaN   \n",
       "max               2021-03-13 21:15:00                   NaN     NaN   \n",
       "std                               NaN                   NaN     NaN   \n",
       "\n",
       "            latitude     longitude javaEnabled screenResolution browser  \\\n",
       "count   16745.000000  16745.000000       16745            16745   16745   \n",
       "unique           NaN           NaN           1              186      13   \n",
       "top              NaN           NaN        True          360x640  Chrome   \n",
       "freq             NaN           NaN       16745             8170   15040   \n",
       "mean       -8.005151    -34.881921         NaN              NaN     NaN   \n",
       "min        -8.398100    -35.104500         NaN              NaN     NaN   \n",
       "25%        -8.052200    -34.928600         NaN              NaN     NaN   \n",
       "50%        -7.990600    -34.873500         NaN              NaN     NaN   \n",
       "75%        -7.990600    -34.841700         NaN              NaN     NaN   \n",
       "max        -7.563000    -34.841700         NaN              NaN     NaN   \n",
       "std         0.045197      0.040481         NaN              NaN     NaN   \n",
       "\n",
       "       operatingSystem mobileDeviceInfo              adSlot  adMatchType  \\\n",
       "count            16745            16745               16745        16745   \n",
       "unique               6              647                   4            3   \n",
       "top            Android     Apple iPhone  Google search: Top  Broad match   \n",
       "freq             15667             1010               13484        11276   \n",
       "mean               NaN              NaN                 NaN          NaN   \n",
       "min                NaN              NaN                 NaN          NaN   \n",
       "25%                NaN              NaN                 NaN          NaN   \n",
       "50%                NaN              NaN                 NaN          NaN   \n",
       "75%                NaN              NaN                 NaN          NaN   \n",
       "max                NaN              NaN                 NaN          NaN   \n",
       "std                NaN              NaN                 NaN          NaN   \n",
       "\n",
       "         impressions      adClicks        adCost  sessionDuration  \\\n",
       "count   16745.000000  16745.000000  16745.000000     16745.000000   \n",
       "unique           NaN           NaN           NaN              NaN   \n",
       "top              NaN           NaN           NaN              NaN   \n",
       "freq             NaN           NaN           NaN              NaN   \n",
       "mean        1.291311      1.125769      1.808792        70.542192   \n",
       "min         1.000000      0.000000      0.000000         0.000000   \n",
       "25%         1.000000      1.000000      0.180000         0.000000   \n",
       "50%         1.000000      1.000000      0.270000        15.000000   \n",
       "75%         1.000000      1.000000      0.320000        60.000000   \n",
       "max        21.000000      5.000000  12635.000000      2937.000000   \n",
       "std         1.271659      0.366177    135.250744       180.825997   \n",
       "\n",
       "           pageviews           ctr  \n",
       "count   16745.000000  16745.000000  \n",
       "unique           NaN           NaN  \n",
       "top              NaN           NaN  \n",
       "freq             NaN           NaN  \n",
       "mean        3.149298      1.025961  \n",
       "min         1.000000      0.000000  \n",
       "25%         1.000000      1.000000  \n",
       "50%         3.000000      1.000000  \n",
       "75%         4.000000      1.000000  \n",
       "max        26.000000      3.000000  \n",
       "std         2.411411      0.350041  "
      ]
     },
     "execution_count": 17,
     "metadata": {},
     "output_type": "execute_result"
    }
   ],
   "source": [
    "dataset.describe(include='all', datetime_is_numeric=True)"
   ]
  },
  {
   "cell_type": "markdown",
   "metadata": {
    "id": "MEoIhbVMnWvT"
   },
   "source": [
    "Uma coluna que quase passou despercebida foi `javaEnabled`, ela está completamente setada como true, então iremos remover-la."
   ]
  },
  {
   "cell_type": "code",
   "execution_count": 18,
   "metadata": {
    "id": "GY1YnODMnWvU"
   },
   "outputs": [],
   "source": [
    "dataset = dataset.drop(columns=['javaEnabled'])"
   ]
  },
  {
   "cell_type": "markdown",
   "metadata": {
    "id": "9EIeHQxWnWvU"
   },
   "source": [
    "Iremos remover todos os `(not set)` de colunas categoricas ou object"
   ]
  },
  {
   "cell_type": "code",
   "execution_count": 19,
   "metadata": {
    "id": "CSG1hPKNnWvU",
    "outputId": "30638d92-fef8-4456-e104-8a1bfa6fa93e"
   },
   "outputs": [
    {
     "name": "stdout",
     "output_type": "stream",
     "text": [
      "(16745, 17)\n",
      "(16183, 17)\n"
     ]
    }
   ],
   "source": [
    "print(dataset.shape)\n",
    "for column in dataset.columns:\n",
    "    if dataset.dtypes[column].name == 'category' or dataset.dtypes[column].name == 'object':\n",
    "        dataset = dataset[(dataset[column] != '(not set)')]\n",
    "        if dataset.dtypes[column].name == 'category':\n",
    "            dataset[column].cat.remove_unused_categories(inplace=True)\n",
    "print(dataset.shape)\n",
    "dataset.reset_index(drop=True, inplace=True)"
   ]
  },
  {
   "cell_type": "markdown",
   "metadata": {
    "id": "gIeJc7S-nWvV"
   },
   "source": [
    "Agora vamos discretizar o `screenResolution` em 4 bins: small, medium, large, xlarge"
   ]
  },
  {
   "cell_type": "code",
   "execution_count": 20,
   "metadata": {
    "id": "yfiMAFqynWvV"
   },
   "outputs": [],
   "source": [
    "def transformScreenResolutionInDPI(resolution):\n",
    "    x = resolution.split('x')\n",
    "    return int(x[0]) * int(x[1])\n",
    "    return 0\n",
    "    \n",
    "dataset['screenResolutionDist'] = pd.cut(dataset.screenResolution.apply(transformScreenResolutionInDPI), 4, labels=['small', 'medium', 'large', 'xlarge'])"
   ]
  },
  {
   "cell_type": "markdown",
   "metadata": {
    "id": "DxaTO_69nWvW"
   },
   "source": [
    "Com a lat/lng iremos usar um geocoding reverso para trazer a granularidade de bairro(locality) para o dataset"
   ]
  },
  {
   "cell_type": "code",
   "execution_count": 21,
   "metadata": {
    "id": "5p5_UrqSnWvW"
   },
   "outputs": [],
   "source": [
    "cache = dict()\n",
    "\n",
    "def getLocality(*args):\n",
    "    if args in cache:\n",
    "        return cache[args]\n",
    "    request = requests.get(f'https://api.bigdatacloud.net/data/reverse-geocode-client?latitude={args[0]}&longitude={args[1]}&localityLanguage=pt')\n",
    "    result = request.json()['locality']\n",
    "    cache[args] = result\n",
    "    return result\n",
    "\n",
    "dataset['locality'] = dataset.apply(lambda x: getLocality(x.latitude, x.longitude), axis=1)"
   ]
  },
  {
   "cell_type": "code",
   "execution_count": 22,
   "metadata": {
    "id": "I2W6OSVBnWvW"
   },
   "outputs": [],
   "source": [
    "dataset = dataset.drop(columns=['latitude', 'longitude'])"
   ]
  },
  {
   "cell_type": "code",
   "execution_count": 23,
   "metadata": {
    "id": "-SiOY8t2nWvX",
    "outputId": "b3f562a8-03f0-450e-fc55-3a2189288059",
    "scrolled": true
   },
   "outputs": [
    {
     "name": "stdout",
     "output_type": "stream",
     "text": [
      "Casa Caiada                  7015\n",
      "Cordeiro                     6195\n",
      "Paulista                     2795\n",
      "Abreu e Lima                   40\n",
      "Igarassu                       35\n",
      "São Lourenço da Mata           30\n",
      "Piedade                        29\n",
      "Centro                         14\n",
      "Camaragibe                     11\n",
      "Cidade Criança Área Rural       6\n",
      "Moreno                          4\n",
      "Goiana                          4\n",
      "Ipojuca                         4\n",
      "Ilha de Itamaracá               1\n",
      "Name: locality, dtype: int64\n",
      "Olinda                     7015\n",
      "Recife                     6195\n",
      "Paulista                   2795\n",
      "Abreu e Lima                 40\n",
      "Igarassu                     35\n",
      "Sao Lourenco da Mata         30\n",
      "Jaboatao dos Guararapes      29\n",
      "Cabo de Santo Agostinho      14\n",
      "Camaragibe                   11\n",
      "Itapissuma                    6\n",
      "Moreno                        4\n",
      "Ipojuca                       4\n",
      "Goiana                        4\n",
      "Itamaraca                     1\n",
      "Name: city, dtype: int64\n"
     ]
    }
   ],
   "source": [
    "print(dataset.locality.value_counts())\n",
    "print(dataset.city.value_counts())"
   ]
  },
  {
   "cell_type": "markdown",
   "metadata": {
    "id": "PbEEt_ZgnWvZ"
   },
   "source": [
    "Como podemos ver na célula acima, todas a lat/lng são unicas por cidade. Tentamos entender o que ouve, mas ja chegou assim do analytics para gente. Acreditamos que seja algum mecanismo para preservar a privacidade do usuário."
   ]
  },
  {
   "cell_type": "markdown",
   "metadata": {
    "id": "auJci_vunWvZ"
   },
   "source": [
    "Removendo duplicados do dataset"
   ]
  },
  {
   "cell_type": "code",
   "execution_count": 24,
   "metadata": {
    "id": "3oYecbJtnWva",
    "outputId": "c5436a00-e82d-4306-b12b-216ac43932ff"
   },
   "outputs": [],
   "source": [
    "dataset.drop_duplicates(inplace=True)"
   ]
  },
  {
   "cell_type": "code",
   "execution_count": 25,
   "metadata": {
    "id": "PG5phGCVnWva",
    "outputId": "794d5f9b-b437-4887-9afd-c8810ec27ca5",
    "scrolled": true
   },
   "outputs": [
    {
     "data": {
      "text/html": [
       "<div>\n",
       "<style scoped>\n",
       "    .dataframe tbody tr th:only-of-type {\n",
       "        vertical-align: middle;\n",
       "    }\n",
       "\n",
       "    .dataframe tbody tr th {\n",
       "        vertical-align: top;\n",
       "    }\n",
       "\n",
       "    .dataframe thead th {\n",
       "        text-align: right;\n",
       "    }\n",
       "</style>\n",
       "<table border=\"1\" class=\"dataframe\">\n",
       "  <thead>\n",
       "    <tr style=\"text-align: right;\">\n",
       "      <th></th>\n",
       "      <th>impressions</th>\n",
       "      <th>adClicks</th>\n",
       "      <th>adCost</th>\n",
       "      <th>sessionDuration</th>\n",
       "      <th>pageviews</th>\n",
       "      <th>ctr</th>\n",
       "    </tr>\n",
       "  </thead>\n",
       "  <tbody>\n",
       "    <tr>\n",
       "      <th>count</th>\n",
       "      <td>16183.000000</td>\n",
       "      <td>16183.000000</td>\n",
       "      <td>16183.000000</td>\n",
       "      <td>16183.000000</td>\n",
       "      <td>16183.000000</td>\n",
       "      <td>16183.000000</td>\n",
       "    </tr>\n",
       "    <tr>\n",
       "      <th>mean</th>\n",
       "      <td>1.291726</td>\n",
       "      <td>1.126429</td>\n",
       "      <td>1.862046</td>\n",
       "      <td>70.606192</td>\n",
       "      <td>3.145770</td>\n",
       "      <td>1.026105</td>\n",
       "    </tr>\n",
       "    <tr>\n",
       "      <th>std</th>\n",
       "      <td>1.266390</td>\n",
       "      <td>0.367151</td>\n",
       "      <td>137.579015</td>\n",
       "      <td>181.828872</td>\n",
       "      <td>2.404589</td>\n",
       "      <td>0.351294</td>\n",
       "    </tr>\n",
       "    <tr>\n",
       "      <th>min</th>\n",
       "      <td>1.000000</td>\n",
       "      <td>0.000000</td>\n",
       "      <td>0.000000</td>\n",
       "      <td>0.000000</td>\n",
       "      <td>1.000000</td>\n",
       "      <td>0.000000</td>\n",
       "    </tr>\n",
       "    <tr>\n",
       "      <th>25%</th>\n",
       "      <td>1.000000</td>\n",
       "      <td>1.000000</td>\n",
       "      <td>0.170000</td>\n",
       "      <td>0.000000</td>\n",
       "      <td>1.000000</td>\n",
       "      <td>1.000000</td>\n",
       "    </tr>\n",
       "    <tr>\n",
       "      <th>50%</th>\n",
       "      <td>1.000000</td>\n",
       "      <td>1.000000</td>\n",
       "      <td>0.270000</td>\n",
       "      <td>15.000000</td>\n",
       "      <td>3.000000</td>\n",
       "      <td>1.000000</td>\n",
       "    </tr>\n",
       "    <tr>\n",
       "      <th>75%</th>\n",
       "      <td>1.000000</td>\n",
       "      <td>1.000000</td>\n",
       "      <td>0.320000</td>\n",
       "      <td>59.000000</td>\n",
       "      <td>4.000000</td>\n",
       "      <td>1.000000</td>\n",
       "    </tr>\n",
       "    <tr>\n",
       "      <th>90%</th>\n",
       "      <td>2.000000</td>\n",
       "      <td>2.000000</td>\n",
       "      <td>0.390000</td>\n",
       "      <td>170.000000</td>\n",
       "      <td>6.000000</td>\n",
       "      <td>1.000000</td>\n",
       "    </tr>\n",
       "    <tr>\n",
       "      <th>99%</th>\n",
       "      <td>8.000000</td>\n",
       "      <td>2.000000</td>\n",
       "      <td>0.720000</td>\n",
       "      <td>977.180000</td>\n",
       "      <td>12.000000</td>\n",
       "      <td>2.000000</td>\n",
       "    </tr>\n",
       "    <tr>\n",
       "      <th>max</th>\n",
       "      <td>21.000000</td>\n",
       "      <td>5.000000</td>\n",
       "      <td>12635.000000</td>\n",
       "      <td>2937.000000</td>\n",
       "      <td>26.000000</td>\n",
       "      <td>3.000000</td>\n",
       "    </tr>\n",
       "  </tbody>\n",
       "</table>\n",
       "</div>"
      ],
      "text/plain": [
       "        impressions      adClicks        adCost  sessionDuration  \\\n",
       "count  16183.000000  16183.000000  16183.000000     16183.000000   \n",
       "mean       1.291726      1.126429      1.862046        70.606192   \n",
       "std        1.266390      0.367151    137.579015       181.828872   \n",
       "min        1.000000      0.000000      0.000000         0.000000   \n",
       "25%        1.000000      1.000000      0.170000         0.000000   \n",
       "50%        1.000000      1.000000      0.270000        15.000000   \n",
       "75%        1.000000      1.000000      0.320000        59.000000   \n",
       "90%        2.000000      2.000000      0.390000       170.000000   \n",
       "99%        8.000000      2.000000      0.720000       977.180000   \n",
       "max       21.000000      5.000000  12635.000000      2937.000000   \n",
       "\n",
       "          pageviews           ctr  \n",
       "count  16183.000000  16183.000000  \n",
       "mean       3.145770      1.026105  \n",
       "std        2.404589      0.351294  \n",
       "min        1.000000      0.000000  \n",
       "25%        1.000000      1.000000  \n",
       "50%        3.000000      1.000000  \n",
       "75%        4.000000      1.000000  \n",
       "90%        6.000000      1.000000  \n",
       "99%       12.000000      2.000000  \n",
       "max       26.000000      3.000000  "
      ]
     },
     "execution_count": 25,
     "metadata": {},
     "output_type": "execute_result"
    }
   ],
   "source": [
    "dataset.describe(include=['number'], percentiles=[0.25, 0.5, 0.75, 0.9, 0.99])"
   ]
  },
  {
   "cell_type": "markdown",
   "metadata": {},
   "source": [
    "Como podemos ver na celula acima temos valores zerados para adClicks, adCost e sessionDuration, então iremos usar algumas tecnicas para tentarmos inserir esses dados ausentes."
   ]
  },
  {
   "cell_type": "code",
   "execution_count": 26,
   "metadata": {},
   "outputs": [
    {
     "data": {
      "text/html": [
       "<div>\n",
       "<style scoped>\n",
       "    .dataframe tbody tr th:only-of-type {\n",
       "        vertical-align: middle;\n",
       "    }\n",
       "\n",
       "    .dataframe tbody tr th {\n",
       "        vertical-align: top;\n",
       "    }\n",
       "\n",
       "    .dataframe thead th {\n",
       "        text-align: right;\n",
       "    }\n",
       "</style>\n",
       "<table border=\"1\" class=\"dataframe\">\n",
       "  <thead>\n",
       "    <tr style=\"text-align: right;\">\n",
       "      <th></th>\n",
       "      <th>impressions</th>\n",
       "      <th>adClicks</th>\n",
       "      <th>adCost</th>\n",
       "      <th>sessionDuration</th>\n",
       "      <th>pageviews</th>\n",
       "      <th>ctr</th>\n",
       "    </tr>\n",
       "  </thead>\n",
       "  <tbody>\n",
       "    <tr>\n",
       "      <th>impressions</th>\n",
       "      <td>1.000000</td>\n",
       "      <td>0.200138</td>\n",
       "      <td>0.019824</td>\n",
       "      <td>0.033863</td>\n",
       "      <td>0.035394</td>\n",
       "      <td>-0.685490</td>\n",
       "    </tr>\n",
       "    <tr>\n",
       "      <th>adClicks</th>\n",
       "      <td>0.200138</td>\n",
       "      <td>1.000000</td>\n",
       "      <td>0.375242</td>\n",
       "      <td>0.131312</td>\n",
       "      <td>0.144702</td>\n",
       "      <td>0.531631</td>\n",
       "    </tr>\n",
       "    <tr>\n",
       "      <th>adCost</th>\n",
       "      <td>0.019824</td>\n",
       "      <td>0.375242</td>\n",
       "      <td>1.000000</td>\n",
       "      <td>-0.046149</td>\n",
       "      <td>-0.022434</td>\n",
       "      <td>0.237411</td>\n",
       "    </tr>\n",
       "    <tr>\n",
       "      <th>sessionDuration</th>\n",
       "      <td>0.033863</td>\n",
       "      <td>0.131312</td>\n",
       "      <td>-0.046149</td>\n",
       "      <td>1.000000</td>\n",
       "      <td>0.866342</td>\n",
       "      <td>0.070399</td>\n",
       "    </tr>\n",
       "    <tr>\n",
       "      <th>pageviews</th>\n",
       "      <td>0.035394</td>\n",
       "      <td>0.144702</td>\n",
       "      <td>-0.022434</td>\n",
       "      <td>0.866342</td>\n",
       "      <td>1.000000</td>\n",
       "      <td>0.078577</td>\n",
       "    </tr>\n",
       "    <tr>\n",
       "      <th>ctr</th>\n",
       "      <td>-0.685490</td>\n",
       "      <td>0.531631</td>\n",
       "      <td>0.237411</td>\n",
       "      <td>0.070399</td>\n",
       "      <td>0.078577</td>\n",
       "      <td>1.000000</td>\n",
       "    </tr>\n",
       "  </tbody>\n",
       "</table>\n",
       "</div>"
      ],
      "text/plain": [
       "                 impressions  adClicks    adCost  sessionDuration  pageviews  \\\n",
       "impressions         1.000000  0.200138  0.019824         0.033863   0.035394   \n",
       "adClicks            0.200138  1.000000  0.375242         0.131312   0.144702   \n",
       "adCost              0.019824  0.375242  1.000000        -0.046149  -0.022434   \n",
       "sessionDuration     0.033863  0.131312 -0.046149         1.000000   0.866342   \n",
       "pageviews           0.035394  0.144702 -0.022434         0.866342   1.000000   \n",
       "ctr                -0.685490  0.531631  0.237411         0.070399   0.078577   \n",
       "\n",
       "                      ctr  \n",
       "impressions     -0.685490  \n",
       "adClicks         0.531631  \n",
       "adCost           0.237411  \n",
       "sessionDuration  0.070399  \n",
       "pageviews        0.078577  \n",
       "ctr              1.000000  "
      ]
     },
     "execution_count": 26,
     "metadata": {},
     "output_type": "execute_result"
    }
   ],
   "source": [
    "dataset.corr(method='spearman')"
   ]
  },
  {
   "cell_type": "code",
   "execution_count": 27,
   "metadata": {},
   "outputs": [
    {
     "name": "stdout",
     "output_type": "stream",
     "text": [
      "count    16183.000000\n",
      "mean         1.126429\n",
      "std          0.367151\n",
      "min          0.000000\n",
      "25%          1.000000\n",
      "50%          1.000000\n",
      "75%          1.000000\n",
      "max          5.000000\n",
      "Name: adClicks, dtype: float64\n",
      "count    16183.000000\n",
      "mean         1.128406\n",
      "std          0.363756\n",
      "min          1.000000\n",
      "25%          1.000000\n",
      "50%          1.000000\n",
      "75%          1.000000\n",
      "max          5.000000\n",
      "Name: adClicks, dtype: float64\n"
     ]
    }
   ],
   "source": [
    "print(dataset.adClicks.describe())\n",
    "dataset.adClicks = dataset.adClicks.replace(0, dataset.adClicks.median())\n",
    "print(dataset.adClicks.describe())"
   ]
  },
  {
   "cell_type": "code",
   "execution_count": 28,
   "metadata": {},
   "outputs": [
    {
     "name": "stdout",
     "output_type": "stream",
     "text": [
      "count    16183.000000\n",
      "mean         1.862046\n",
      "std        137.579015\n",
      "min          0.000000\n",
      "25%          0.170000\n",
      "50%          0.270000\n",
      "75%          0.320000\n",
      "max      12635.000000\n",
      "Name: adCost, dtype: float64\n",
      "count    16183.000000\n",
      "mean         1.862580\n",
      "std        137.579008\n",
      "min          0.010000\n",
      "25%          0.170000\n",
      "50%          0.270000\n",
      "75%          0.320000\n",
      "max      12635.000000\n",
      "Name: adCost, dtype: float64\n"
     ]
    }
   ],
   "source": [
    "print(dataset.adCost.describe())\n",
    "dataset.adCost = dataset.adCost.replace(0, dataset.adCost.median())\n",
    "print(dataset.adCost.describe())"
   ]
  },
  {
   "cell_type": "markdown",
   "metadata": {},
   "source": [
    "Como `sessionDuration` tem uma forte correlação com `pageviews`, itemos usar um knn para inputar essa coluna"
   ]
  },
  {
   "cell_type": "code",
   "execution_count": 29,
   "metadata": {
    "scrolled": true
   },
   "outputs": [
    {
     "name": "stdout",
     "output_type": "stream",
     "text": [
      "       sessionDuration     pageviews\n",
      "count     11649.000000  16183.000000\n",
      "mean         98.087389      3.145770\n",
      "std         207.930939      2.404589\n",
      "min           1.000000      1.000000\n",
      "25%          12.000000      1.000000\n",
      "50%          32.000000      3.000000\n",
      "75%          93.000000      4.000000\n",
      "max        2937.000000     26.000000\n",
      "       sessionDuration     pageviews\n",
      "count     16183.000000  16183.000000\n",
      "mean        157.070580      3.145770\n",
      "std         202.567197      2.404589\n",
      "min           1.000000      1.000000\n",
      "25%          17.000000      1.000000\n",
      "50%          68.000000      3.000000\n",
      "75%         321.600000      4.000000\n",
      "max        2937.000000     26.000000\n"
     ]
    }
   ],
   "source": [
    "from sklearn.impute import KNNImputer\n",
    "aux = dataset[['sessionDuration', 'pageviews']].replace(0, np.nan)\n",
    "print(aux.describe())\n",
    "imputer = KNNImputer(n_neighbors=5)\n",
    "imputer.fit(aux)\n",
    "x = imputer.transform(aux)\n",
    "x = pd.DataFrame(x, columns = ['sessionDuration', 'pageviews'])\n",
    "print(x.describe())\n",
    "dataset[['sessionDuration', 'pageviews']] = x"
   ]
  },
  {
   "cell_type": "code",
   "execution_count": 30,
   "metadata": {},
   "outputs": [
    {
     "name": "stdout",
     "output_type": "stream",
     "text": [
      "(16183, 17)\n"
     ]
    },
    {
     "data": {
      "text/html": [
       "<div>\n",
       "<style scoped>\n",
       "    .dataframe tbody tr th:only-of-type {\n",
       "        vertical-align: middle;\n",
       "    }\n",
       "\n",
       "    .dataframe tbody tr th {\n",
       "        vertical-align: top;\n",
       "    }\n",
       "\n",
       "    .dataframe thead th {\n",
       "        text-align: right;\n",
       "    }\n",
       "</style>\n",
       "<table border=\"1\" class=\"dataframe\">\n",
       "  <thead>\n",
       "    <tr style=\"text-align: right;\">\n",
       "      <th></th>\n",
       "      <th>impressions</th>\n",
       "      <th>adClicks</th>\n",
       "      <th>adCost</th>\n",
       "      <th>sessionDuration</th>\n",
       "      <th>pageviews</th>\n",
       "      <th>ctr</th>\n",
       "    </tr>\n",
       "  </thead>\n",
       "  <tbody>\n",
       "    <tr>\n",
       "      <th>count</th>\n",
       "      <td>16183.000000</td>\n",
       "      <td>16183.000000</td>\n",
       "      <td>16183.000000</td>\n",
       "      <td>16183.000000</td>\n",
       "      <td>16183.000000</td>\n",
       "      <td>16183.000000</td>\n",
       "    </tr>\n",
       "    <tr>\n",
       "      <th>mean</th>\n",
       "      <td>1.291726</td>\n",
       "      <td>1.128406</td>\n",
       "      <td>1.862580</td>\n",
       "      <td>157.070580</td>\n",
       "      <td>3.145770</td>\n",
       "      <td>1.026105</td>\n",
       "    </tr>\n",
       "    <tr>\n",
       "      <th>std</th>\n",
       "      <td>1.266390</td>\n",
       "      <td>0.363756</td>\n",
       "      <td>137.579008</td>\n",
       "      <td>202.567197</td>\n",
       "      <td>2.404589</td>\n",
       "      <td>0.351294</td>\n",
       "    </tr>\n",
       "    <tr>\n",
       "      <th>min</th>\n",
       "      <td>1.000000</td>\n",
       "      <td>1.000000</td>\n",
       "      <td>0.010000</td>\n",
       "      <td>1.000000</td>\n",
       "      <td>1.000000</td>\n",
       "      <td>0.000000</td>\n",
       "    </tr>\n",
       "    <tr>\n",
       "      <th>25%</th>\n",
       "      <td>1.000000</td>\n",
       "      <td>1.000000</td>\n",
       "      <td>0.170000</td>\n",
       "      <td>17.000000</td>\n",
       "      <td>1.000000</td>\n",
       "      <td>1.000000</td>\n",
       "    </tr>\n",
       "    <tr>\n",
       "      <th>50%</th>\n",
       "      <td>1.000000</td>\n",
       "      <td>1.000000</td>\n",
       "      <td>0.270000</td>\n",
       "      <td>68.000000</td>\n",
       "      <td>3.000000</td>\n",
       "      <td>1.000000</td>\n",
       "    </tr>\n",
       "    <tr>\n",
       "      <th>75%</th>\n",
       "      <td>1.000000</td>\n",
       "      <td>1.000000</td>\n",
       "      <td>0.320000</td>\n",
       "      <td>321.600000</td>\n",
       "      <td>4.000000</td>\n",
       "      <td>1.000000</td>\n",
       "    </tr>\n",
       "    <tr>\n",
       "      <th>90%</th>\n",
       "      <td>2.000000</td>\n",
       "      <td>2.000000</td>\n",
       "      <td>0.390000</td>\n",
       "      <td>321.600000</td>\n",
       "      <td>6.000000</td>\n",
       "      <td>1.000000</td>\n",
       "    </tr>\n",
       "    <tr>\n",
       "      <th>99%</th>\n",
       "      <td>8.000000</td>\n",
       "      <td>2.000000</td>\n",
       "      <td>0.720000</td>\n",
       "      <td>977.180000</td>\n",
       "      <td>12.000000</td>\n",
       "      <td>2.000000</td>\n",
       "    </tr>\n",
       "    <tr>\n",
       "      <th>max</th>\n",
       "      <td>21.000000</td>\n",
       "      <td>5.000000</td>\n",
       "      <td>12635.000000</td>\n",
       "      <td>2937.000000</td>\n",
       "      <td>26.000000</td>\n",
       "      <td>3.000000</td>\n",
       "    </tr>\n",
       "  </tbody>\n",
       "</table>\n",
       "</div>"
      ],
      "text/plain": [
       "        impressions      adClicks        adCost  sessionDuration  \\\n",
       "count  16183.000000  16183.000000  16183.000000     16183.000000   \n",
       "mean       1.291726      1.128406      1.862580       157.070580   \n",
       "std        1.266390      0.363756    137.579008       202.567197   \n",
       "min        1.000000      1.000000      0.010000         1.000000   \n",
       "25%        1.000000      1.000000      0.170000        17.000000   \n",
       "50%        1.000000      1.000000      0.270000        68.000000   \n",
       "75%        1.000000      1.000000      0.320000       321.600000   \n",
       "90%        2.000000      2.000000      0.390000       321.600000   \n",
       "99%        8.000000      2.000000      0.720000       977.180000   \n",
       "max       21.000000      5.000000  12635.000000      2937.000000   \n",
       "\n",
       "          pageviews           ctr  \n",
       "count  16183.000000  16183.000000  \n",
       "mean       3.145770      1.026105  \n",
       "std        2.404589      0.351294  \n",
       "min        1.000000      0.000000  \n",
       "25%        1.000000      1.000000  \n",
       "50%        3.000000      1.000000  \n",
       "75%        4.000000      1.000000  \n",
       "90%        6.000000      1.000000  \n",
       "99%       12.000000      2.000000  \n",
       "max       26.000000      3.000000  "
      ]
     },
     "execution_count": 30,
     "metadata": {},
     "output_type": "execute_result"
    }
   ],
   "source": [
    "print(dataset.shape)\n",
    "dataset.describe(include=['number'], percentiles=[0.25, 0.5, 0.75, 0.9, 0.99])"
   ]
  },
  {
   "cell_type": "markdown",
   "metadata": {},
   "source": [
    "Agora iremos detectar outliers em nossos atributos categóricos."
   ]
  },
  {
   "cell_type": "code",
   "execution_count": 49,
   "metadata": {
    "scrolled": true
   },
   "outputs": [
    {
     "data": {
      "text/plain": [
       "impressions           AxesSubplot(0.125,0.657941;0.227941x0.222059)\n",
       "adClicks           AxesSubplot(0.398529,0.657941;0.227941x0.222059)\n",
       "adCost             AxesSubplot(0.672059,0.657941;0.227941x0.222059)\n",
       "sessionDuration       AxesSubplot(0.125,0.391471;0.227941x0.222059)\n",
       "pageviews          AxesSubplot(0.398529,0.391471;0.227941x0.222059)\n",
       "ctr                AxesSubplot(0.672059,0.391471;0.227941x0.222059)\n",
       "dtype: object"
      ]
     },
     "execution_count": 49,
     "metadata": {},
     "output_type": "execute_result"
    },
    {
     "data": {
      "image/png": "[encoded data removed]",
      "text/plain": [
       "<Figure size 864x1080 with 9 Axes>"
      ]
     },
     "metadata": {},
     "output_type": "display_data"
    }
   ],
   "source": [
    "dataset.plot.box(subplots=True, layout=(3,3), figsize=(12,15))"
   ]
  },
  {
   "cell_type": "code",
   "execution_count": 90,
   "metadata": {
    "scrolled": true
   },
   "outputs": [
    {
     "data": {
      "text/plain": [
       "<AxesSubplot:ylabel='Frequency'>"
      ]
     },
     "execution_count": 90,
     "metadata": {},
     "output_type": "execute_result"
    },
    {
     "data": {
      "image/png": "[encoded data removed]",
      "text/plain": [
       "<Figure size 432x288 with 1 Axes>"
      ]
     },
     "metadata": {},
     "output_type": "display_data"
    }
   ],
   "source": [
    "from numpy import abs\n",
    "\n",
    "def histToRobustZScore(s):\n",
    "    ((abs(s-s.median())) / s.mad()).plot.hist()\n",
    "    \n",
    "def removeBasedOnRobustZScore(s, score):\n",
    "    return s[((abs(s-s.median())) / s.mad()) < score]\n",
    "            \n",
    "def removeBasedOnTukey(s, score):\n",
    "    q1 = s.quantile(0.25)\n",
    "    q3 = s.quantile(0.75)\n",
    "    iqr = q3-q1\n",
    "    inner_fence = 1.5*iqr\n",
    "    outer_fence = 3*iqr\n",
    "    inner_fence_le = q1-inner_fence\n",
    "    inner_fence_ue = q3+inner_fence\n",
    "    outer_fence_le = q1-outer_fence\n",
    "    outer_fence_ue = q3+outer_fence\n",
    "\n",
    "aux = removeBasedOnRobustZScore(dataset.impressions, 3.5).plot.hist()"
   ]
  },
  {
   "cell_type": "code",
   "execution_count": 78,
   "metadata": {},
   "outputs": [
    {
     "data": {
      "text/plain": [
       "<AxesSubplot:ylabel='Frequency'>"
      ]
     },
     "execution_count": 78,
     "metadata": {},
     "output_type": "execute_result"
    },
    {
     "data": {
      "image/png": "[encoded data removed]",
      "text/plain": [
       "<Figure size 432x288 with 1 Axes>"
      ]
     },
     "metadata": {},
     "output_type": "display_data"
    }
   ],
   "source": [
    "log10(dataset.impressions).plot.hist()"
   ]
  },
  {
   "cell_type": "markdown",
   "metadata": {
    "id": "b_B3Ye6KnWvb"
   },
   "source": [
    "### Numero de cliques"
   ]
  },
  {
   "cell_type": "code",
   "execution_count": 32,
   "metadata": {
    "id": "EgIU6DIsnWvb",
    "outputId": "d976e85d-cbd2-47b4-d778-458d2f39ebd3"
   },
   "outputs": [
    {
     "data": {
      "text/plain": [
       "<AxesSubplot:xlabel='adClicks', ylabel='Count'>"
      ]
     },
     "execution_count": 32,
     "metadata": {},
     "output_type": "execute_result"
    },
    {
     "data": {
      "image/png": "[encoded data removed]",
      "text/plain": [
       "<Figure size 432x288 with 1 Axes>"
      ]
     },
     "metadata": {
      "needs_background": "light"
     },
     "output_type": "display_data"
    }
   ],
   "source": [
    "sbn.histplot(dataset.adClicks)"
   ]
  },
  {
   "cell_type": "markdown",
   "metadata": {
    "id": "JeuZzw0HnWvc"
   },
   "source": [
    "### Distribuição preço dos anuncios"
   ]
  },
  {
   "cell_type": "code",
   "execution_count": 33,
   "metadata": {
    "id": "3TX40veFnWvc",
    "outputId": "e47e1ae6-27e5-409a-aa84-f24dc52d9bc1"
   },
   "outputs": [
    {
     "data": {
      "text/plain": [
       "<AxesSubplot:xlabel='adCost', ylabel='Density'>"
      ]
     },
     "execution_count": 33,
     "metadata": {},
     "output_type": "execute_result"
    },
    {
     "data": {
      "image/png": "[encoded data removed]",
      "text/plain": [
       "<Figure size 432x288 with 1 Axes>"
      ]
     },
     "metadata": {
      "needs_background": "light"
     },
     "output_type": "display_data"
    }
   ],
   "source": [
    "sbn.distplot(dataset.adCost)"
   ]
  },
  {
   "cell_type": "code",
   "execution_count": 34,
   "metadata": {
    "id": "cTZb2oI-nWvd",
    "outputId": "9a1f09c3-cc16-4316-c2df-685207c0a956"
   },
   "outputs": [
    {
     "data": {
      "text/plain": [
       "<AxesSubplot:xlabel='adCost', ylabel='Density'>"
      ]
     },
     "execution_count": 34,
     "metadata": {},
     "output_type": "execute_result"
    },
    {
     "data": {
      "image/png": "[encoded data removed]",
      "text/plain": [
       "<Figure size 432x288 with 1 Axes>"
      ]
     },
     "metadata": {
      "needs_background": "light"
     },
     "output_type": "display_data"
    }
   ],
   "source": [
    "x = dataset[dataset.adCost > 0].adCost\n",
    "sbn.distplot(x.apply(log10))"
   ]
  },
  {
   "cell_type": "markdown",
   "metadata": {
    "id": "cnOZD1nJnWvd"
   },
   "source": [
    "### Preço médio de anúncio por cidade"
   ]
  },
  {
   "cell_type": "code",
   "execution_count": 35,
   "metadata": {
    "id": "1Tr7yDFHnWve",
    "outputId": "64a0743d-9abd-4447-fc0c-e44c0b2b8dbf"
   },
   "outputs": [
    {
     "data": {
      "text/plain": [
       "<AxesSubplot:ylabel='city'>"
      ]
     },
     "execution_count": 35,
     "metadata": {},
     "output_type": "execute_result"
    },
    {
     "data": {
      "image/png": "[encoded data removed]",
      "text/plain": [
       "<Figure size 432x288 with 1 Axes>"
      ]
     },
     "metadata": {
      "needs_background": "light"
     },
     "output_type": "display_data"
    }
   ],
   "source": [
    "dataset.groupby(by='city').mean().adCost.dropna().plot.barh()"
   ]
  },
  {
   "cell_type": "markdown",
   "metadata": {
    "id": "kESrR7xenWve"
   },
   "source": [
    "### Preço do anúncio por tempo na página"
   ]
  },
  {
   "cell_type": "code",
   "execution_count": 36,
   "metadata": {
    "id": "9EqOf449nWve",
    "outputId": "a1ed53f0-dc7e-4b66-a956-39b8594a0071"
   },
   "outputs": [
    {
     "ename": "AttributeError",
     "evalue": "'DataFrame' object has no attribute 'timeOnPage'",
     "output_type": "error",
     "traceback": [
      "\u001b[1;31m---------------------------------------------------------------------------\u001b[0m",
      "\u001b[1;31mAttributeError\u001b[0m                            Traceback (most recent call last)",
      "\u001b[1;32m<ipython-input-36-2b44114366a6>\u001b[0m in \u001b[0;36m<module>\u001b[1;34m\u001b[0m\n\u001b[1;32m----> 1\u001b[1;33m \u001b[0msbn\u001b[0m\u001b[1;33m.\u001b[0m\u001b[0mscatterplot\u001b[0m\u001b[1;33m(\u001b[0m\u001b[0mx\u001b[0m\u001b[1;33m=\u001b[0m\u001b[0mdataset\u001b[0m\u001b[1;33m.\u001b[0m\u001b[0madCost\u001b[0m\u001b[1;33m,\u001b[0m \u001b[0my\u001b[0m\u001b[1;33m=\u001b[0m\u001b[0mdataset\u001b[0m\u001b[1;33m.\u001b[0m\u001b[0mtimeOnPage\u001b[0m\u001b[1;33m)\u001b[0m\u001b[1;33m\u001b[0m\u001b[1;33m\u001b[0m\u001b[0m\n\u001b[0m",
      "\u001b[1;32m~\\anaconda3\\lib\\site-packages\\pandas\\core\\generic.py\u001b[0m in \u001b[0;36m__getattr__\u001b[1;34m(self, name)\u001b[0m\n\u001b[0;32m   5137\u001b[0m             \u001b[1;32mif\u001b[0m \u001b[0mself\u001b[0m\u001b[1;33m.\u001b[0m\u001b[0m_info_axis\u001b[0m\u001b[1;33m.\u001b[0m\u001b[0m_can_hold_identifiers_and_holds_name\u001b[0m\u001b[1;33m(\u001b[0m\u001b[0mname\u001b[0m\u001b[1;33m)\u001b[0m\u001b[1;33m:\u001b[0m\u001b[1;33m\u001b[0m\u001b[1;33m\u001b[0m\u001b[0m\n\u001b[0;32m   5138\u001b[0m                 \u001b[1;32mreturn\u001b[0m \u001b[0mself\u001b[0m\u001b[1;33m[\u001b[0m\u001b[0mname\u001b[0m\u001b[1;33m]\u001b[0m\u001b[1;33m\u001b[0m\u001b[1;33m\u001b[0m\u001b[0m\n\u001b[1;32m-> 5139\u001b[1;33m             \u001b[1;32mreturn\u001b[0m \u001b[0mobject\u001b[0m\u001b[1;33m.\u001b[0m\u001b[0m__getattribute__\u001b[0m\u001b[1;33m(\u001b[0m\u001b[0mself\u001b[0m\u001b[1;33m,\u001b[0m \u001b[0mname\u001b[0m\u001b[1;33m)\u001b[0m\u001b[1;33m\u001b[0m\u001b[1;33m\u001b[0m\u001b[0m\n\u001b[0m\u001b[0;32m   5140\u001b[0m \u001b[1;33m\u001b[0m\u001b[0m\n\u001b[0;32m   5141\u001b[0m     \u001b[1;32mdef\u001b[0m \u001b[0m__setattr__\u001b[0m\u001b[1;33m(\u001b[0m\u001b[0mself\u001b[0m\u001b[1;33m,\u001b[0m \u001b[0mname\u001b[0m\u001b[1;33m:\u001b[0m \u001b[0mstr\u001b[0m\u001b[1;33m,\u001b[0m \u001b[0mvalue\u001b[0m\u001b[1;33m)\u001b[0m \u001b[1;33m->\u001b[0m \u001b[1;32mNone\u001b[0m\u001b[1;33m:\u001b[0m\u001b[1;33m\u001b[0m\u001b[1;33m\u001b[0m\u001b[0m\n",
      "\u001b[1;31mAttributeError\u001b[0m: 'DataFrame' object has no attribute 'timeOnPage'"
     ]
    }
   ],
   "source": [
    "sbn.scatterplot(x=dataset.adCost, y=dataset.timeOnPage)"
   ]
  },
  {
   "cell_type": "code",
   "execution_count": null,
   "metadata": {
    "id": "IJEKvii3nWvf",
    "outputId": "3dca94b8-2422-46a7-ffbd-a9ae7a3b32de",
    "scrolled": true
   },
   "outputs": [],
   "source": [
    "x = dataset[dataset.adCost > 0].adCost\n",
    "y = dataset[dataset.timeOnPage > 0].timeOnPage\n",
    "sbn.scatterplot(x=x.apply(log10), y=y.apply(log10))"
   ]
  },
  {
   "cell_type": "markdown",
   "metadata": {
    "id": "R7b0sjcLnWvf"
   },
   "source": [
    "Não existe correlação entre o tempo na página e o preço do anuncio"
   ]
  },
  {
   "cell_type": "markdown",
   "metadata": {
    "id": "tTIV2eBGnWvf"
   },
   "source": [
    "### Distribuição tempo na página"
   ]
  },
  {
   "cell_type": "code",
   "execution_count": null,
   "metadata": {
    "id": "WasWMZHUnWvg",
    "outputId": "3481d637-4df2-4171-a003-4d0c7535f4f5"
   },
   "outputs": [],
   "source": [
    "sbn.distplot(dataset.timeOnPage)"
   ]
  },
  {
   "cell_type": "code",
   "execution_count": null,
   "metadata": {
    "id": "W-sisPC2nWvg",
    "outputId": "c0fa6b86-3e37-4ac7-aa1e-b3250fd9a04a"
   },
   "outputs": [],
   "source": [
    "x = dataset[dataset.timeOnPage > 0].timeOnPage\n",
    "sbn.distplot(x=x.apply(log10))"
   ]
  },
  {
   "cell_type": "markdown",
   "metadata": {
    "id": "5JJUrORenWvg"
   },
   "source": [
    "### Tempo na página por resolução de tela"
   ]
  },
  {
   "cell_type": "code",
   "execution_count": null,
   "metadata": {
    "id": "13BCDd6MnWvh",
    "outputId": "4d15ec6b-5831-405a-e007-a7af8cea9203",
    "scrolled": true
   },
   "outputs": [],
   "source": [
    "dataset.groupby(by='screenResolutionDist').mean().timeOnPage.dropna().plot.barh()"
   ]
  },
  {
   "cell_type": "markdown",
   "metadata": {
    "id": "qgK2iRGAnWvh"
   },
   "source": [
    "### Tempo na página por sistema operacional"
   ]
  },
  {
   "cell_type": "code",
   "execution_count": null,
   "metadata": {
    "id": "V8wGXa_EnWvh",
    "outputId": "232838a6-5aa9-4568-c1b5-61ca98243b57"
   },
   "outputs": [],
   "source": [
    "dataset.groupby(by='operatingSystem').mean().timeOnPage.dropna().plot.barh() # REMOVER OUTLIER"
   ]
  },
  {
   "cell_type": "markdown",
   "metadata": {
    "id": "p4x888HsnWvi"
   },
   "source": [
    "### Preço de anuncio por sistema operacional"
   ]
  },
  {
   "cell_type": "code",
   "execution_count": null,
   "metadata": {
    "id": "GlkC5uhlnWvi",
    "outputId": "6641cc7f-e3d3-4691-9260-86be4629aac2"
   },
   "outputs": [],
   "source": [
    "dataset[dataset.adCost < 1].groupby(by='operatingSystem').mean().adCost.dropna().plot.barh() # REMOVER OUTLIER"
   ]
  },
  {
   "cell_type": "markdown",
   "metadata": {
    "id": "lhoZ5heznWvi"
   },
   "source": [
    "### Pagina vistar por tempo médio na pagina"
   ]
  },
  {
   "cell_type": "code",
   "execution_count": null,
   "metadata": {
    "id": "8uy9ohB8nWvi",
    "outputId": "979e5e88-79fb-42f7-a691-32c69f90699d"
   },
   "outputs": [],
   "source": [
    "dataset.groupby(by='pageviews').mean().timeOnPage.dropna().plot.barh()"
   ]
  },
  {
   "cell_type": "code",
   "execution_count": null,
   "metadata": {
    "id": "0NS_gHkLnWvj"
   },
   "outputs": [],
   "source": []
  }
 ],
 "metadata": {
  "colab": {
   "include_colab_link": true,
   "name": "adsense-anlysis.ipynb",
   "provenance": []
  },
  "kernelspec": {
   "display_name": "Python 3",
   "language": "python",
   "name": "python3"
  },
  "language_info": {
   "codemirror_mode": {
    "name": "ipython",
    "version": 3
   },
   "file_extension": ".py",
   "mimetype": "text/x-python",
   "name": "python",
   "nbconvert_exporter": "python",
   "pygments_lexer": "ipython3",
   "version": "3.8.5"
  }
 },
 "nbformat": 4,
 "nbformat_minor": 1
}
