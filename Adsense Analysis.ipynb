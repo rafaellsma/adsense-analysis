{
 "cells": [
  {
   "cell_type": "markdown",
   "metadata": {},
   "source": [
    "# Adsense Analysis"
   ]
  },
  {
   "cell_type": "markdown",
   "metadata": {},
   "source": [
    "Recuperamos do Google Analytics dois dataset que contém informações sobre a pesquisa, preço do anuncio que foi disparado, referencia geografica do usuario e estatisticas de conversão. Os datasets estão separados para tentar anonimizar o usuário final, então iremos unir-los e fazer analises em busca de entender o comportamento dos anuncios para uma região"
   ]
  },
  {
   "cell_type": "code",
   "execution_count": 1,
   "metadata": {},
   "outputs": [],
   "source": [
    "import numpy as np\n",
    "import pandas as pd\n",
    "import requests"
   ]
  },
  {
   "cell_type": "code",
   "execution_count": 2,
   "metadata": {},
   "outputs": [],
   "source": [
    "dataset = pd.read_csv('dataset.tsv', sep='\\t')\n",
    "dataset_lat_lng = pd.read_csv('dataset-lat-lng.tsv', sep='\\t')"
   ]
  },
  {
   "cell_type": "code",
   "execution_count": 3,
   "metadata": {},
   "outputs": [
    {
     "data": {
      "text/html": [
       "<div>\n",
       "<style scoped>\n",
       "    .dataframe tbody tr th:only-of-type {\n",
       "        vertical-align: middle;\n",
       "    }\n",
       "\n",
       "    .dataframe tbody tr th {\n",
       "        vertical-align: top;\n",
       "    }\n",
       "\n",
       "    .dataframe thead th {\n",
       "        text-align: right;\n",
       "    }\n",
       "</style>\n",
       "<table border=\"1\" class=\"dataframe\">\n",
       "  <thead>\n",
       "    <tr style=\"text-align: right;\">\n",
       "      <th></th>\n",
       "      <th>adMatchedQuery</th>\n",
       "      <th>date</th>\n",
       "      <th>users</th>\n",
       "      <th>sessions</th>\n",
       "      <th>sessionDuration</th>\n",
       "      <th>adCost</th>\n",
       "      <th>pageviews</th>\n",
       "      <th>pageviewsPerSession</th>\n",
       "      <th>timeOnPage</th>\n",
       "      <th>avgTimeOnPage</th>\n",
       "      <th>exits</th>\n",
       "      <th>pageLoadTime</th>\n",
       "    </tr>\n",
       "  </thead>\n",
       "  <tbody>\n",
       "    <tr>\n",
       "      <th>0</th>\n",
       "      <td>drogasil jardim atlantico</td>\n",
       "      <td>20180412</td>\n",
       "      <td>0</td>\n",
       "      <td>0</td>\n",
       "      <td>0.0</td>\n",
       "      <td>0.30</td>\n",
       "      <td>0</td>\n",
       "      <td>0.0</td>\n",
       "      <td>0.0</td>\n",
       "      <td>0.0</td>\n",
       "      <td>0</td>\n",
       "      <td>0</td>\n",
       "    </tr>\n",
       "    <tr>\n",
       "      <th>1</th>\n",
       "      <td>drogasil jardim atlantico</td>\n",
       "      <td>20181009</td>\n",
       "      <td>0</td>\n",
       "      <td>0</td>\n",
       "      <td>0.0</td>\n",
       "      <td>0.30</td>\n",
       "      <td>0</td>\n",
       "      <td>0.0</td>\n",
       "      <td>0.0</td>\n",
       "      <td>0.0</td>\n",
       "      <td>0</td>\n",
       "      <td>0</td>\n",
       "    </tr>\n",
       "    <tr>\n",
       "      <th>2</th>\n",
       "      <td>drogasil jardim atlantico</td>\n",
       "      <td>20190129</td>\n",
       "      <td>1</td>\n",
       "      <td>1</td>\n",
       "      <td>28.0</td>\n",
       "      <td>0.30</td>\n",
       "      <td>3</td>\n",
       "      <td>3.0</td>\n",
       "      <td>27.0</td>\n",
       "      <td>13.5</td>\n",
       "      <td>1</td>\n",
       "      <td>0</td>\n",
       "    </tr>\n",
       "    <tr>\n",
       "      <th>3</th>\n",
       "      <td>drogasil jardim atlantico</td>\n",
       "      <td>20200129</td>\n",
       "      <td>0</td>\n",
       "      <td>0</td>\n",
       "      <td>0.0</td>\n",
       "      <td>0.24</td>\n",
       "      <td>0</td>\n",
       "      <td>0.0</td>\n",
       "      <td>0.0</td>\n",
       "      <td>0.0</td>\n",
       "      <td>0</td>\n",
       "      <td>0</td>\n",
       "    </tr>\n",
       "    <tr>\n",
       "      <th>4</th>\n",
       "      <td>drogasil jardim atlantico</td>\n",
       "      <td>20200222</td>\n",
       "      <td>0</td>\n",
       "      <td>0</td>\n",
       "      <td>0.0</td>\n",
       "      <td>0.27</td>\n",
       "      <td>0</td>\n",
       "      <td>0.0</td>\n",
       "      <td>0.0</td>\n",
       "      <td>0.0</td>\n",
       "      <td>0</td>\n",
       "      <td>0</td>\n",
       "    </tr>\n",
       "  </tbody>\n",
       "</table>\n",
       "</div>"
      ],
      "text/plain": [
       "              adMatchedQuery      date  users  sessions  sessionDuration  \\\n",
       "0  drogasil jardim atlantico  20180412      0         0              0.0   \n",
       "1  drogasil jardim atlantico  20181009      0         0              0.0   \n",
       "2  drogasil jardim atlantico  20190129      1         1             28.0   \n",
       "3  drogasil jardim atlantico  20200129      0         0              0.0   \n",
       "4  drogasil jardim atlantico  20200222      0         0              0.0   \n",
       "\n",
       "   adCost  pageviews  pageviewsPerSession  timeOnPage  avgTimeOnPage  exits  \\\n",
       "0    0.30          0                  0.0         0.0            0.0      0   \n",
       "1    0.30          0                  0.0         0.0            0.0      0   \n",
       "2    0.30          3                  3.0        27.0           13.5      1   \n",
       "3    0.24          0                  0.0         0.0            0.0      0   \n",
       "4    0.27          0                  0.0         0.0            0.0      0   \n",
       "\n",
       "   pageLoadTime  \n",
       "0             0  \n",
       "1             0  \n",
       "2             0  \n",
       "3             0  \n",
       "4             0  "
      ]
     },
     "execution_count": 3,
     "metadata": {},
     "output_type": "execute_result"
    }
   ],
   "source": [
    "dataset.head()"
   ]
  },
  {
   "cell_type": "code",
   "execution_count": 4,
   "metadata": {},
   "outputs": [
    {
     "data": {
      "text/plain": [
       "(73892, 12)"
      ]
     },
     "execution_count": 4,
     "metadata": {},
     "output_type": "execute_result"
    }
   ],
   "source": [
    "dataset.shape"
   ]
  },
  {
   "cell_type": "code",
   "execution_count": 5,
   "metadata": {},
   "outputs": [
    {
     "data": {
      "text/html": [
       "<div>\n",
       "<style scoped>\n",
       "    .dataframe tbody tr th:only-of-type {\n",
       "        vertical-align: middle;\n",
       "    }\n",
       "\n",
       "    .dataframe tbody tr th {\n",
       "        vertical-align: top;\n",
       "    }\n",
       "\n",
       "    .dataframe thead th {\n",
       "        text-align: right;\n",
       "    }\n",
       "</style>\n",
       "<table border=\"1\" class=\"dataframe\">\n",
       "  <thead>\n",
       "    <tr style=\"text-align: right;\">\n",
       "      <th></th>\n",
       "      <th>adMatchedQuery</th>\n",
       "      <th>city</th>\n",
       "      <th>latitude</th>\n",
       "      <th>longitude</th>\n",
       "      <th>networkDomain</th>\n",
       "      <th>networkLocation</th>\n",
       "      <th>dateHourMinute</th>\n",
       "      <th>users</th>\n",
       "    </tr>\n",
       "  </thead>\n",
       "  <tbody>\n",
       "    <tr>\n",
       "      <th>0</th>\n",
       "      <td>(not set)</td>\n",
       "      <td>Sao Paulo</td>\n",
       "      <td>-23.5505</td>\n",
       "      <td>-46.6333</td>\n",
       "      <td>(not set)</td>\n",
       "      <td>(not set)</td>\n",
       "      <td>202009141052</td>\n",
       "      <td>1</td>\n",
       "    </tr>\n",
       "    <tr>\n",
       "      <th>1</th>\n",
       "      <td>(not set)</td>\n",
       "      <td>Sao Paulo</td>\n",
       "      <td>-23.5505</td>\n",
       "      <td>-46.6333</td>\n",
       "      <td>(not set)</td>\n",
       "      <td>(not set)</td>\n",
       "      <td>202009141053</td>\n",
       "      <td>1</td>\n",
       "    </tr>\n",
       "    <tr>\n",
       "      <th>2</th>\n",
       "      <td>(not set)</td>\n",
       "      <td>Sao Paulo</td>\n",
       "      <td>-23.5505</td>\n",
       "      <td>-46.6333</td>\n",
       "      <td>(not set)</td>\n",
       "      <td>(not set)</td>\n",
       "      <td>202010041458</td>\n",
       "      <td>1</td>\n",
       "    </tr>\n",
       "    <tr>\n",
       "      <th>3</th>\n",
       "      <td>(not set)</td>\n",
       "      <td>Sao Paulo</td>\n",
       "      <td>-23.5505</td>\n",
       "      <td>-46.6333</td>\n",
       "      <td>(not set)</td>\n",
       "      <td>(not set)</td>\n",
       "      <td>202012070013</td>\n",
       "      <td>1</td>\n",
       "    </tr>\n",
       "    <tr>\n",
       "      <th>4</th>\n",
       "      <td>(not set)</td>\n",
       "      <td>Sao Paulo</td>\n",
       "      <td>-23.5505</td>\n",
       "      <td>-46.6333</td>\n",
       "      <td>(not set)</td>\n",
       "      <td>(not set)</td>\n",
       "      <td>202101151632</td>\n",
       "      <td>1</td>\n",
       "    </tr>\n",
       "  </tbody>\n",
       "</table>\n",
       "</div>"
      ],
      "text/plain": [
       "  adMatchedQuery       city  latitude  longitude networkDomain  \\\n",
       "0      (not set)  Sao Paulo  -23.5505   -46.6333     (not set)   \n",
       "1      (not set)  Sao Paulo  -23.5505   -46.6333     (not set)   \n",
       "2      (not set)  Sao Paulo  -23.5505   -46.6333     (not set)   \n",
       "3      (not set)  Sao Paulo  -23.5505   -46.6333     (not set)   \n",
       "4      (not set)  Sao Paulo  -23.5505   -46.6333     (not set)   \n",
       "\n",
       "  networkLocation  dateHourMinute  users  \n",
       "0       (not set)    202009141052      1  \n",
       "1       (not set)    202009141053      1  \n",
       "2       (not set)    202010041458      1  \n",
       "3       (not set)    202012070013      1  \n",
       "4       (not set)    202101151632      1  "
      ]
     },
     "execution_count": 5,
     "metadata": {},
     "output_type": "execute_result"
    }
   ],
   "source": [
    "dataset_lat_lng.head()"
   ]
  },
  {
   "cell_type": "code",
   "execution_count": 6,
   "metadata": {},
   "outputs": [
    {
     "data": {
      "text/plain": [
       "(52609, 8)"
      ]
     },
     "execution_count": 6,
     "metadata": {},
     "output_type": "execute_result"
    }
   ],
   "source": [
    "dataset_lat_lng.shape"
   ]
  },
  {
   "cell_type": "markdown",
   "metadata": {},
   "source": [
    "Para unir os datasets usarremos como chaves primárias o termo que foi buscado, o dia que ocorreu e a quantidade de usuarios. Essa ultima chave é para tentarmos ter uma assertividade melhor na localização de um unico usuario ou um grupo."
   ]
  },
  {
   "cell_type": "code",
   "execution_count": 7,
   "metadata": {},
   "outputs": [],
   "source": [
    "# Convertendo datas em datetime\n",
    "\n",
    "dataset.date = pd.to_datetime(dataset.date, format=\"%Y%m%d\").dt.date\n",
    "dataset_lat_lng['date'] = pd.to_datetime(dataset_lat_lng.dateHourMinute, format=\"%Y%m%d%H%M\").dt.date"
   ]
  },
  {
   "cell_type": "code",
   "execution_count": 8,
   "metadata": {},
   "outputs": [],
   "source": [
    "# Convertendo o adMatchedQuery para string, limpando acentos, espaços e valores vazios = \"(not set)\"\n",
    "\n",
    "def preProcessAdMatchedQuery(dataframe):\n",
    "    dataframe.adMatchedQuery = dataframe.adMatchedQuery.astype('string')\n",
    "    dataframe.adMatchedQuery = dataframe.adMatchedQuery.str.lower()\n",
    "    dataframe.adMatchedQuery = dataframe.adMatchedQuery.str.strip()\n",
    "    dataframe.adMatchedQuery = dataframe.adMatchedQuery.str.normalize('NFKD').str.encode('ascii', errors='ignore').str.decode('utf-8')\n",
    "    dataframe = dataframe[dataframe.adMatchedQuery != '(not set)']\n",
    "    return dataframe\n",
    "\n",
    "dataset = preProcessAdMatchedQuery(dataset)\n",
    "dataset_lat_lng = preProcessAdMatchedQuery(dataset_lat_lng)"
   ]
  },
  {
   "cell_type": "markdown",
   "metadata": {},
   "source": [
    "Vamos remover duplicados do dataset nos baseando nas chaves primárias que iremos utilizar para mergir os datasets(adMatchedQuery, date, users)"
   ]
  },
  {
   "cell_type": "code",
   "execution_count": 9,
   "metadata": {},
   "outputs": [
    {
     "name": "stdout",
     "output_type": "stream",
     "text": [
      "duplicados do dataset 650\n",
      "duplicados do dataset com lat e lng 18491\n",
      "shape dataset antes de remover (73118, 12)\n",
      "shape dataset com lat-lng antes de remover (42437, 9)\n",
      "shape dataset depois de remover (72468, 12)\n",
      "shape dataset lat-lng depois de remover (23946, 9)\n"
     ]
    }
   ],
   "source": [
    "print('duplicados do dataset', dataset.duplicated(subset=['adMatchedQuery', 'date', 'users']).sum())\n",
    "print('duplicados do dataset com lat e lng', dataset_lat_lng.duplicated(subset=['adMatchedQuery', 'date', 'users']).sum())\n",
    "print('shape dataset antes de remover', dataset.shape)\n",
    "print('shape dataset com lat-lng antes de remover', dataset_lat_lng.shape)\n",
    "dataset.drop_duplicates(inplace=True, subset=['adMatchedQuery', 'date', 'users'])\n",
    "dataset_lat_lng.drop_duplicates(inplace=True, subset=['adMatchedQuery', 'date', 'users'])\n",
    "print('shape dataset depois de remover', dataset.shape)\n",
    "print('shape dataset lat-lng depois de remover', dataset_lat_lng.shape)"
   ]
  },
  {
   "cell_type": "code",
   "execution_count": 10,
   "metadata": {},
   "outputs": [],
   "source": [
    "enriched_dataset = dataset.merge(dataset_lat_lng, on=['adMatchedQuery', 'date', 'users'])"
   ]
  },
  {
   "cell_type": "code",
   "execution_count": 11,
   "metadata": {},
   "outputs": [
    {
     "data": {
      "text/plain": [
       "(23180, 18)"
      ]
     },
     "execution_count": 11,
     "metadata": {},
     "output_type": "execute_result"
    }
   ],
   "source": [
    "enriched_dataset.shape"
   ]
  },
  {
   "cell_type": "code",
   "execution_count": 12,
   "metadata": {},
   "outputs": [],
   "source": [
    "# Removendo instancia que não são de Recife ou Olinda\n",
    "enriched_dataset = enriched_dataset[enriched_dataset.city.isin(['Olinda', 'Recife'])]"
   ]
  },
  {
   "cell_type": "code",
   "execution_count": null,
   "metadata": {},
   "outputs": [],
   "source": [
    "# Adicionando o bairro ao dataset usando um geocoder reverso\n",
    "\n",
    "def getLocality(lat, lng, index):\n",
    "    print(index)\n",
    "    request = requests.get(f'https://api.bigdatacloud.net/data/reverse-geocode-client?latitude={lat}&longitude={lng}&localityLanguage=pt')\n",
    "    return request.json()['locality']\n",
    "\n",
    "enriched_dataset['locality'] = enriched_dataset.apply(lambda x: getLocality(x.latitude, x.longitude, x.name), axis=1)"
   ]
  },
  {
   "cell_type": "code",
   "execution_count": 37,
   "metadata": {},
   "outputs": [
    {
     "data": {
      "text/plain": [
       "0.000000    1570\n",
       "0.340000    1016\n",
       "0.280000     996\n",
       "0.300000     976\n",
       "0.290000     961\n",
       "            ... \n",
       "0.432599       1\n",
       "0.280500       1\n",
       "0.199499       1\n",
       "0.195600       1\n",
       "0.112000       1\n",
       "Name: adCost, Length: 345, dtype: int64"
      ]
     },
     "execution_count": 37,
     "metadata": {},
     "output_type": "execute_result"
    }
   ],
   "source": [
    "enriched_dataset.adCost.value_counts()"
   ]
  },
  {
   "cell_type": "code",
   "execution_count": null,
   "metadata": {},
   "outputs": [],
   "source": []
  }
 ],
 "metadata": {
  "kernelspec": {
   "display_name": "Python 3",
   "language": "python",
   "name": "python3"
  },
  "language_info": {
   "codemirror_mode": {
    "name": "ipython",
    "version": 3
   },
   "file_extension": ".py",
   "mimetype": "text/x-python",
   "name": "python",
   "nbconvert_exporter": "python",
   "pygments_lexer": "ipython3",
   "version": "3.8.5"
  }
 },
 "nbformat": 4,
 "nbformat_minor": 4
}
